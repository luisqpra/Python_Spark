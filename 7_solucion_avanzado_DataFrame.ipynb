{
 "cells": [
  {
   "cell_type": "markdown",
   "metadata": {},
   "source": [
    "# Ejercicios\n",
    "Los datos adjuntos a esta lección forman parte de la base de datos Football Data from Transfermarkt de Kaggle.\\\n",
    " El conjunto de datos se compone de varios archivos CSV con información sobre competiciones, juegos, clubes, jugadores y apariciones."
   ]
  },
  {
   "cell_type": "code",
   "execution_count": 1,
   "metadata": {},
   "outputs": [],
   "source": [
    "from pyspark.sql import SparkSession\n",
    "from pyspark.sql.functions import min, max, col\n",
    "from pyspark.sql.functions import sum, sum_distinct, avg, count\n",
    "from pyspark.sql.functions import desc, broadcast\n",
    "# directorio donde estan los datos\n",
    "path = 'files/football/'"
   ]
  },
  {
   "cell_type": "code",
   "execution_count": 2,
   "metadata": {},
   "outputs": [
    {
     "name": "stderr",
     "output_type": "stream",
     "text": [
      "24/01/06 18:22:48 WARN Utils: Your hostname, luis-Nitro-AN515-52 resolves to a loopback address: 127.0.1.1; using 192.168.1.17 instead (on interface enp7s0f1)\n",
      "24/01/06 18:22:48 WARN Utils: Set SPARK_LOCAL_IP if you need to bind to another address\n",
      "Setting default log level to \"WARN\".\n",
      "To adjust logging level use sc.setLogLevel(newLevel). For SparkR, use setLogLevel(newLevel).\n",
      "24/01/06 18:22:50 WARN NativeCodeLoader: Unable to load native-hadoop library for your platform... using builtin-java classes where applicable\n"
     ]
    }
   ],
   "source": [
    "spark = SparkSession.builder.getOrCreate()"
   ]
  },
  {
   "cell_type": "code",
   "execution_count": 3,
   "metadata": {},
   "outputs": [
    {
     "name": "stderr",
     "output_type": "stream",
     "text": [
      "                                                                                \r"
     ]
    }
   ],
   "source": [
    "# Lectura de los archivos\n",
    "players = spark.read.option('header', 'true').option('inferSchema','true').csv(path+'players.csv')\n",
    "app = spark.read.option('header', 'true').option('inferSchema','true').csv(path+'appearances.csv')\n",
    "competicion = spark.read.option('header', 'true').option('inferSchema','true').csv(path+'competitions.csv')\n",
    "juegos = spark.read.option('header', 'true').option('inferSchema','true').csv(path+'games.csv')"
   ]
  },
  {
   "cell_type": "markdown",
   "metadata": {},
   "source": [
    "## 1. Determine los tres países con mayor número de jugadores(jugadores nacidos en ese país). El resultado debe estar ordenado de forma descendente."
   ]
  },
  {
   "cell_type": "code",
   "execution_count": 4,
   "metadata": {},
   "outputs": [
    {
     "name": "stdout",
     "output_type": "stream",
     "text": [
      "+----------------+-----+\n",
      "|country_of_birth|count|\n",
      "+----------------+-----+\n",
      "|          France| 1694|\n",
      "|           Spain| 1388|\n",
      "|           Italy| 1312|\n",
      "+----------------+-----+\n",
      "\n"
     ]
    }
   ],
   "source": [
    "players.groupBy('country_of_birth').count()\\\n",
    "    .orderBy(desc('count'))\\\n",
    "    .filter(col('country_of_birth').isNotNull())\\\n",
    "    .limit(3).show()"
   ]
  },
  {
   "cell_type": "markdown",
   "metadata": {},
   "source": [
    "## 2. Obtenga la lista de jugadores con tarjeta roja. La salida debe contener dos columnas, el nombre de pila del jugador y la cantidad de tarjetas rojas que tiene."
   ]
  },
  {
   "cell_type": "code",
   "execution_count": 5,
   "metadata": {},
   "outputs": [
    {
     "name": "stderr",
     "output_type": "stream",
     "text": [
      "[Stage 11:==============>                                           (2 + 6) / 8]\r"
     ]
    },
    {
     "name": "stdout",
     "output_type": "stream",
     "text": [
      "+---------+--------------+\n",
      "|player_id|tarjetas_rojas|\n",
      "+---------+--------------+\n",
      "|   199976|             1|\n",
      "|    57370|             4|\n",
      "|   172015|             1|\n",
      "|   253765|             1|\n",
      "|    18944|             2|\n",
      "+---------+--------------+\n",
      "only showing top 5 rows\n",
      "\n"
     ]
    },
    {
     "name": "stderr",
     "output_type": "stream",
     "text": [
      "                                                                                \r"
     ]
    }
   ],
   "source": [
    "tarjetas_roja = app.groupBy('player_id').agg(\n",
    "    sum('red_cards').alias('tarjetas_rojas')\n",
    "    ).filter(col('tarjetas_rojas') > 0)\n",
    "tarjetas_roja.show(5)"
   ]
  },
  {
   "cell_type": "code",
   "execution_count": 6,
   "metadata": {},
   "outputs": [
    {
     "name": "stdout",
     "output_type": "stream",
     "text": [
      "+---------+-------------------+\n",
      "|player_id|        pretty_name|\n",
      "+---------+-------------------+\n",
      "|    38790|     Dmitri Golubov|\n",
      "|   106539| Aleksandr Vasiljev|\n",
      "|   164389|      Rory Donnelly|\n",
      "|    45247|     Damien Perquis|\n",
      "|    97205|Nikita Bezlikhotnov|\n",
      "+---------+-------------------+\n",
      "only showing top 5 rows\n",
      "\n"
     ]
    }
   ],
   "source": [
    "players_resume = players.select(col('player_id'),col('pretty_name'))\n",
    "players_resume.show(5)"
   ]
  },
  {
   "cell_type": "code",
   "execution_count": 7,
   "metadata": {},
   "outputs": [
    {
     "name": "stdout",
     "output_type": "stream",
     "text": [
      "+----------------+--------------+\n",
      "|     pretty_name|tarjetas_rojas|\n",
      "+----------------+--------------+\n",
      "|      Thomas Lam|             5|\n",
      "| Mario Balotelli|             5|\n",
      "|    Granit Xhaka|             5|\n",
      "|Domenico Berardi|             5|\n",
      "|          Hilton|             5|\n",
      "| Damien Da Silva|             4|\n",
      "| Yannick Cahuzac|             4|\n",
      "|     Jaume Costa|             4|\n",
      "|   Heung Min Son|             4|\n",
      "| Gabriel Paletta|             4|\n",
      "|    Jordan Amavi|             4|\n",
      "|      Ante Rebic|             4|\n",
      "| Stefan Mitrovic|             4|\n",
      "| Rodrigo De Paul|             4|\n",
      "|         Rodrigo|             4|\n",
      "|     Ivan Ordets|             4|\n",
      "| Roberto Soriano|             4|\n",
      "|      Jordi Amat|             4|\n",
      "|  Ognjen Vranjes|             4|\n",
      "|      Allan Nyom|             4|\n",
      "+----------------+--------------+\n",
      "only showing top 20 rows\n",
      "\n"
     ]
    }
   ],
   "source": [
    "jugadores_tarjetas_rojas = tarjetas_roja.join(players_resume, ['player_id'], 'left')\n",
    "jugadores_tarjetas_rojas.orderBy(desc('tarjetas_rojas')).select(col('pretty_name'),col('tarjetas_rojas')).show()"
   ]
  },
  {
   "cell_type": "markdown",
   "metadata": {},
   "source": [
    "## 3. ¿Cuántos juegos se jugaron en la Premier League? La salida debe contener dos columnas, el nombre de la liga y la cantidad de juegos que se jugaron en ella."
   ]
  },
  {
   "cell_type": "code",
   "execution_count": 24,
   "metadata": {},
   "outputs": [
    {
     "name": "stdout",
     "output_type": "stream",
     "text": [
      "+--------------+--------------+----------+----------+------------+--------------------+-------------+--------------------+\n",
      "|competition_id|          name|      type|country_id|country_name|domestic_league_code|confederation|                 url|\n",
      "+--------------+--------------+----------+----------+------------+--------------------+-------------+--------------------+\n",
      "|           GB1|premier-league|first_tier|       189|     England|                 GB1|       europa|https://www.trans...|\n",
      "+--------------+--------------+----------+----------+------------+--------------------+-------------+--------------------+\n",
      "\n"
     ]
    }
   ],
   "source": [
    "premier_league=competicion.filter(col('name')=='premier-league')\n",
    "premier_league.show()"
   ]
  },
  {
   "cell_type": "code",
   "execution_count": 31,
   "metadata": {},
   "outputs": [
    {
     "name": "stdout",
     "output_type": "stream",
     "text": [
      "+--------------+--------+\n",
      "|          Liga|partidos|\n",
      "+--------------+--------+\n",
      "|premier-league|    2809|\n",
      "+--------------+--------+\n",
      "\n"
     ]
    }
   ],
   "source": [
    "juegos.filter(col('competition_code')=='GB1')\\\n",
    "    .join(premier_league, col('competition_code') == col('competition_id'), 'left')\\\n",
    "    .groupBy('name').count()\\\n",
    "    .withColumnRenamed('count', 'partidos')\\\n",
    "    .withColumnRenamed('name', 'Liga')\\\n",
    "    .show()"
   ]
  },
  {
   "cell_type": "markdown",
   "metadata": {},
   "source": [
    "## 4. Obtenga las tres ligas con mayor número de asistencia de público teniendo en cuenta todos los juegos que se jugaron en ellas. El resultado debe estar ordenado de forma descendente y tener dos columnas, el nombre de la liga y la asistencia total."
   ]
  },
  {
   "cell_type": "code",
   "execution_count": 40,
   "metadata": {},
   "outputs": [
    {
     "name": "stdout",
     "output_type": "stream",
     "text": [
      "+--------------+----------------+\n",
      "|          Liga|Asistencia_total|\n",
      "+--------------+----------------+\n",
      "|premier-league|        86964852|\n",
      "|    bundesliga|        78102473|\n",
      "|        laliga|        62943533|\n",
      "+--------------+----------------+\n",
      "\n"
     ]
    }
   ],
   "source": [
    "juegos.dropDuplicates(['game_id'])\\\n",
    "    .select(col('competition_code'),col('attendance'))\\\n",
    "    .groupBy('competition_code').sum()\\\n",
    "    .join(competicion.select(col('competition_id'),col('name'))\n",
    "          ,col('competition_code') == col('competition_id'), 'left')\\\n",
    "    .select(col('name').alias('Liga'),col('sum(attendance)').alias('Asistencia_total'))\\\n",
    "    .orderBy(desc('Asistencia_total'))\\\n",
    "    .limit(3)\\\n",
    "    .show()"
   ]
  },
  {
   "cell_type": "code",
   "execution_count": null,
   "metadata": {},
   "outputs": [],
   "source": [
    "spark.sparkContext.stop()"
   ]
  }
 ],
 "metadata": {
  "kernelspec": {
   "display_name": "venv",
   "language": "python",
   "name": "python3"
  },
  "language_info": {
   "codemirror_mode": {
    "name": "ipython",
    "version": 3
   },
   "file_extension": ".py",
   "mimetype": "text/x-python",
   "name": "python",
   "nbconvert_exporter": "python",
   "pygments_lexer": "ipython3",
   "version": "3.10.4"
  }
 },
 "nbformat": 4,
 "nbformat_minor": 2
}

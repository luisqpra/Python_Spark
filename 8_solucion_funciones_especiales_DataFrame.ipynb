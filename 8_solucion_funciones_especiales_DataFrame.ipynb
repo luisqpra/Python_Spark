{
 "cells": [
  {
   "cell_type": "markdown",
   "metadata": {},
   "source": [
    "# Ejercicios\n",
    "Cada línea del archivo movies.csv representa a un actor que actuó en una película.\\\n",
    "Si una película tiene diez actores, habrá diez filas para esa película en particular."
   ]
  },
  {
   "cell_type": "code",
   "execution_count": 28,
   "metadata": {},
   "outputs": [],
   "source": [
    "from pyspark.sql import SparkSession\n",
    "from pyspark.sql.functions import desc, col\n",
    "from pyspark.sql.types import IntegerType\n",
    "from pyspark.sql.functions import udf\n",
    "from pyspark.sql.window import Window\n",
    "from pyspark.sql.functions import rank\n",
    "from pyspark.sql.functions import count_distinct\n",
    "\n",
    "path = 'files/movies/'"
   ]
  },
  {
   "cell_type": "code",
   "execution_count": 2,
   "metadata": {},
   "outputs": [
    {
     "name": "stderr",
     "output_type": "stream",
     "text": [
      "24/01/10 10:56:23 WARN Utils: Your hostname, luis-Nitro-AN515-52 resolves to a loopback address: 127.0.1.1; using 192.168.1.17 instead (on interface enp7s0f1)\n",
      "24/01/10 10:56:23 WARN Utils: Set SPARK_LOCAL_IP if you need to bind to another address\n",
      "Setting default log level to \"WARN\".\n",
      "To adjust logging level use sc.setLogLevel(newLevel). For SparkR, use setLogLevel(newLevel).\n",
      "24/01/10 10:56:25 WARN NativeCodeLoader: Unable to load native-hadoop library for your platform... using builtin-java classes where applicable\n"
     ]
    }
   ],
   "source": [
    "spark = SparkSession.builder.getOrCreate()"
   ]
  },
  {
   "cell_type": "code",
   "execution_count": 11,
   "metadata": {},
   "outputs": [
    {
     "name": "stderr",
     "output_type": "stream",
     "text": [
      "                                                                                \r"
     ]
    }
   ],
   "source": [
    "# Lectura de los archivos\n",
    "movies = spark.read.option('header', 'true').option('inferSchema','true').option('delimiter','|').csv(path+'movies.csv')\n",
    "ratings = spark.read.option('header', 'true').option('inferSchema','true').option('delimiter','|').csv(path+'movie_ratings.csv')"
   ]
  },
  {
   "cell_type": "code",
   "execution_count": 12,
   "metadata": {},
   "outputs": [
    {
     "name": "stdout",
     "output_type": "stream",
     "text": [
      "+-----------------+-------------+----+\n",
      "|            actor|     pelicula| año|\n",
      "+-----------------+-------------+----+\n",
      "|McClure, Marc (I)|Freaky Friday|2003|\n",
      "|McClure, Marc (I)| Coach Carter|2005|\n",
      "|McClure, Marc (I)|  Superman II|1980|\n",
      "|McClure, Marc (I)|    Apollo 13|1995|\n",
      "|McClure, Marc (I)|     Superman|1978|\n",
      "+-----------------+-------------+----+\n",
      "only showing top 5 rows\n",
      "\n"
     ]
    }
   ],
   "source": [
    "movies.show(5)"
   ]
  },
  {
   "cell_type": "code",
   "execution_count": 13,
   "metadata": {},
   "outputs": [
    {
     "name": "stdout",
     "output_type": "stream",
     "text": [
      "+----------+--------------------+----+\n",
      "|valoracion|            pelicula| año|\n",
      "+----------+--------------------+----+\n",
      "|    1.6339|'Crocodile' Dunde...|1988|\n",
      "|    7.6177|                  10|1979|\n",
      "|    1.2864|10 Things I Hate ...|1999|\n",
      "|    0.3243|           10,000 BC|2008|\n",
      "|    0.3376|      101 Dalmatians|1996|\n",
      "+----------+--------------------+----+\n",
      "only showing top 5 rows\n",
      "\n"
     ]
    }
   ],
   "source": [
    "ratings.show(5)"
   ]
  },
  {
   "cell_type": "markdown",
   "metadata": {},
   "source": [
    "1. Calcule la cantidad de películas en las que participó cada actor. La salida debe tener dos columnas: actor y conteo. La salida debe ordenarse por el conteo en orden descendente."
   ]
  },
  {
   "cell_type": "code",
   "execution_count": 32,
   "metadata": {},
   "outputs": [
    {
     "name": "stdout",
     "output_type": "stream",
     "text": [
      "+-------------------+-----+\n",
      "|              actor|count|\n",
      "+-------------------+-----+\n",
      "|   Tatasciore, Fred|   38|\n",
      "|      Welker, Frank|   38|\n",
      "| Jackson, Samuel L.|   32|\n",
      "|      Harnell, Jess|   31|\n",
      "|        Damon, Matt|   27|\n",
      "|      Willis, Bruce|   27|\n",
      "|  Cummings, Jim (I)|   26|\n",
      "|         Hanks, Tom|   25|\n",
      "|   Lynn, Sherry (I)|   25|\n",
      "|    McGowan, Mickie|   25|\n",
      "|    Bergen, Bob (I)|   25|\n",
      "|      Proctor, Phil|   24|\n",
      "|   Wilson, Owen (I)|   23|\n",
      "|        Cruise, Tom|   23|\n",
      "|         Pitt, Brad|   23|\n",
      "|Freeman, Morgan (I)|   22|\n",
      "|Williams, Robin (I)|   22|\n",
      "|       Depp, Johnny|   22|\n",
      "|     Morrison, Rana|   22|\n",
      "|      Diaz, Cameron|   21|\n",
      "+-------------------+-----+\n",
      "only showing top 20 rows\n",
      "\n"
     ]
    }
   ],
   "source": [
    "movies.groupBy('actor')\\\n",
    "    .count()\\\n",
    "    .orderBy(desc('count'))\\\n",
    "    .show()"
   ]
  },
  {
   "cell_type": "markdown",
   "metadata": {},
   "source": [
    "2.     Calcule la cantidad de películas producidas cada año. La salida debe tener tres columnas: año, siglo al que pertenece el año y conteo. La salida debe ordenarse por el conteo en orden descendente.\n",
    "\n",
    "\n"
   ]
  },
  {
   "cell_type": "code",
   "execution_count": 22,
   "metadata": {},
   "outputs": [],
   "source": [
    "# Funcion siglo\n",
    "@udf(returnType=IntegerType())\n",
    "def siglo(s):\n",
    "    return 1+(s//100)"
   ]
  },
  {
   "cell_type": "code",
   "execution_count": 34,
   "metadata": {},
   "outputs": [
    {
     "name": "stdout",
     "output_type": "stream",
     "text": [
      "+----+-----+-----+\n",
      "| año|count|siglo|\n",
      "+----+-----+-----+\n",
      "|2006|   86|   20|\n",
      "|2004|   86|   20|\n",
      "|2005|   85|   20|\n",
      "|2011|   85|   20|\n",
      "|2008|   82|   20|\n",
      "|2002|   81|   20|\n",
      "|2000|   77|   20|\n",
      "|2003|   76|   20|\n",
      "|2010|   76|   20|\n",
      "|2007|   75|   20|\n",
      "|2001|   71|   20|\n",
      "|2009|   68|   20|\n",
      "|1999|   67|   19|\n",
      "|1997|   66|   19|\n",
      "|1998|   59|   19|\n",
      "|1996|   42|   19|\n",
      "|2012|   32|   20|\n",
      "|1995|   25|   19|\n",
      "|1994|   16|   19|\n",
      "|1986|   16|   19|\n",
      "+----+-----+-----+\n",
      "only showing top 20 rows\n",
      "\n"
     ]
    }
   ],
   "source": [
    "movies.groupBy('año').agg(\n",
    "    count_distinct('pelicula').alias('conteo'),\n",
    "    siglo(col('año')).alias('siglo')\n",
    "    )\\\n",
    "    .orderBy(desc('count'))\\\n",
    "    .show()"
   ]
  },
  {
   "cell_type": "markdown",
   "metadata": {},
   "source": [
    "3. Obtenga la película con la calificación más alta por año. La salida debe tener solo una película por año y debe contener tres columnas: año, título de la película y valoración."
   ]
  },
  {
   "cell_type": "code",
   "execution_count": 27,
   "metadata": {},
   "outputs": [],
   "source": [
    "windowSpec = Window.partitionBy('año').orderBy(desc('valoracion'))"
   ]
  },
  {
   "cell_type": "code",
   "execution_count": 31,
   "metadata": {},
   "outputs": [
    {
     "name": "stdout",
     "output_type": "stream",
     "text": [
      "+----+--------------------+----------+\n",
      "| año|            pelicula|valoracion|\n",
      "+----+--------------------+----------+\n",
      "|1937|Snow White and th...|    2.2207|\n",
      "|1939|    The Wizard of Oz|    7.9215|\n",
      "|1940|           Pinocchio|    7.8557|\n",
      "|1942|               Bambi|    1.5053|\n",
      "|1946|   Song of the South|     7.602|\n",
      "|1950|          Cinderella|    9.4226|\n",
      "|1953|           Peter Pan|    5.4756|\n",
      "|1954|         Rear Window|   10.7625|\n",
      "|1955|  Lady and the Tramp|    5.1258|\n",
      "|1956|Around the World ...|   14.0607|\n",
      "|1959|     Sleeping Beauty|    6.3919|\n",
      "|1960|              Psycho|   10.6375|\n",
      "|1961|One Hundred and O...|    0.6726|\n",
      "|1962|     The Longest Day|   12.8866|\n",
      "|1963|It's a Mad Mad Ma...|     6.626|\n",
      "|1964|        My Fair Lady|     7.587|\n",
      "|1965|      Doctor Zhivago|    4.9304|\n",
      "|1966|Who's Afraid of V...|   11.1111|\n",
      "|1967|     The Dirty Dozen|    13.388|\n",
      "|1968|        The Love Bug|   13.4383|\n",
      "+----+--------------------+----------+\n",
      "only showing top 20 rows\n",
      "\n"
     ]
    }
   ],
   "source": [
    "ratings.withColumn('rank', rank().over(windowSpec))\\\n",
    "    .filter(col('rank')==1)\\\n",
    "    .select(col('año'),col('pelicula'),col('valoracion'))\\\n",
    "    .show()"
   ]
  },
  {
   "cell_type": "code",
   "execution_count": null,
   "metadata": {},
   "outputs": [],
   "source": [
    "spark.sparkContext.stop()"
   ]
  }
 ],
 "metadata": {
  "kernelspec": {
   "display_name": "venv",
   "language": "python",
   "name": "python3"
  },
  "language_info": {
   "codemirror_mode": {
    "name": "ipython",
    "version": 3
   },
   "file_extension": ".py",
   "mimetype": "text/x-python",
   "name": "python",
   "nbconvert_exporter": "python",
   "pygments_lexer": "ipython3",
   "version": "3.10.4"
  }
 },
 "nbformat": 4,
 "nbformat_minor": 2
}

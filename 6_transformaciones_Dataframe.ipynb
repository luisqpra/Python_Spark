{
 "cells": [
  {
   "cell_type": "markdown",
   "metadata": {},
   "source": [
    "# Transformaciones de DataFrames"
   ]
  },
  {
   "cell_type": "code",
   "execution_count": 3,
   "metadata": {},
   "outputs": [],
   "source": [
    "from pyspark.sql import SparkSession\n",
    "from pyspark.sql.functions import col\n",
    "\n",
    "# directorio donde estan los datos\n",
    "path = 'files/'\n",
    "\n",
    "spark = SparkSession.builder.getOrCreate()"
   ]
  },
  {
   "cell_type": "code",
   "execution_count": 4,
   "metadata": {},
   "outputs": [
    {
     "name": "stdout",
     "output_type": "stream",
     "text": [
      "root\n",
      " |-- video_id: string (nullable = true)\n",
      " |-- trending_date: string (nullable = true)\n",
      " |-- title: string (nullable = true)\n",
      " |-- channel_title: string (nullable = true)\n",
      " |-- category_id: string (nullable = true)\n",
      " |-- publish_time: string (nullable = true)\n",
      " |-- tags: string (nullable = true)\n",
      " |-- views: string (nullable = true)\n",
      " |-- likes: string (nullable = true)\n",
      " |-- dislikes: string (nullable = true)\n",
      " |-- comment_count: string (nullable = true)\n",
      " |-- thumbnail_link: string (nullable = true)\n",
      " |-- comments_disabled: string (nullable = true)\n",
      " |-- ratings_disabled: string (nullable = true)\n",
      " |-- video_error_or_removed: string (nullable = true)\n",
      " |-- description: string (nullable = true)\n",
      "\n"
     ]
    }
   ],
   "source": [
    "# Cargar DataFrame\n",
    "df = spark.read.parquet(path+'dataPARQUET.parquet')\n",
    "\n",
    "df.printSchema()"
   ]
  },
  {
   "cell_type": "markdown",
   "metadata": {},
   "source": [
    "### Seleccionar columnas"
   ]
  },
  {
   "cell_type": "code",
   "execution_count": 11,
   "metadata": {},
   "outputs": [
    {
     "name": "stdout",
     "output_type": "stream",
     "text": [
      "+--------------------+-----------+\n",
      "|               title|   video_id|\n",
      "+--------------------+-----------+\n",
      "|WE WANT TO TALK A...|2kyS6SvSYSE|\n",
      "|The Trump Preside...|1ZAPwfrtAFY|\n",
      "|Racist Superman |...|5qpjK5DgCt4|\n",
      "|Nickelback Lyrics...|puqaWrEC7tY|\n",
      "|I Dare You: GOING...|d380meD0W0M|\n",
      "|2 Weeks with iPho...|gHZ1Qz0KiKM|\n",
      "|Roy Moore & Jeff ...|39idVpFF7NQ|\n",
      "|5 Ice Cream Gadge...|nc99ccSXST0|\n",
      "|The Greatest Show...|jr9QtXwC9vc|\n",
      "|Why the rise of t...|TUmyygCMMGA|\n",
      "|Dion Lewis' 103-Y...|9wRQljFNDW8|\n",
      "|(SPOILERS) 'Shiva...|VifQlJit6A0|\n",
      "|Marshmello - Bloc...|5E4ZBSInqUU|\n",
      "|Which Countries A...|GgVmn66oK_A|\n",
      "|SHOPPING FOR NEW ...|TaTleo4cOs8|\n",
      "|    The New SpotMini|kgaO45SyaO4|\n",
      "|One Change That W...|ZAQs-ctOqXQ|\n",
      "|How does your bod...|YVfyYrEmzgM|\n",
      "|HomeMade Electric...|eNSN6qet1kE|\n",
      "|Founding An Inbre...|B5HORANmzHw|\n",
      "+--------------------+-----------+\n",
      "only showing top 20 rows\n",
      "\n"
     ]
    }
   ],
   "source": [
    "# Primera alternativa para referirnos a las columnas\n",
    "\n",
    "df.select('title','video_id').show()"
   ]
  },
  {
   "cell_type": "code",
   "execution_count": 10,
   "metadata": {},
   "outputs": [
    {
     "name": "stdout",
     "output_type": "stream",
     "text": [
      "+--------------------+-----------+-------------+\n",
      "|               title|   video_id|trending_date|\n",
      "+--------------------+-----------+-------------+\n",
      "|WE WANT TO TALK A...|2kyS6SvSYSE|     17.14.11|\n",
      "|The Trump Preside...|1ZAPwfrtAFY|     17.14.11|\n",
      "|Racist Superman |...|5qpjK5DgCt4|     17.14.11|\n",
      "|Nickelback Lyrics...|puqaWrEC7tY|     17.14.11|\n",
      "|I Dare You: GOING...|d380meD0W0M|     17.14.11|\n",
      "|2 Weeks with iPho...|gHZ1Qz0KiKM|     17.14.11|\n",
      "|Roy Moore & Jeff ...|39idVpFF7NQ|     17.14.11|\n",
      "|5 Ice Cream Gadge...|nc99ccSXST0|     17.14.11|\n",
      "|The Greatest Show...|jr9QtXwC9vc|     17.14.11|\n",
      "|Why the rise of t...|TUmyygCMMGA|     17.14.11|\n",
      "|Dion Lewis' 103-Y...|9wRQljFNDW8|     17.14.11|\n",
      "|(SPOILERS) 'Shiva...|VifQlJit6A0|     17.14.11|\n",
      "|Marshmello - Bloc...|5E4ZBSInqUU|     17.14.11|\n",
      "|Which Countries A...|GgVmn66oK_A|     17.14.11|\n",
      "|SHOPPING FOR NEW ...|TaTleo4cOs8|     17.14.11|\n",
      "|    The New SpotMini|kgaO45SyaO4|     17.14.11|\n",
      "|One Change That W...|ZAQs-ctOqXQ|     17.14.11|\n",
      "|How does your bod...|YVfyYrEmzgM|     17.14.11|\n",
      "|HomeMade Electric...|eNSN6qet1kE|     17.14.11|\n",
      "|Founding An Inbre...|B5HORANmzHw|     17.14.11|\n",
      "+--------------------+-----------+-------------+\n",
      "only showing top 20 rows\n",
      "\n"
     ]
    }
   ],
   "source": [
    "# Segunda alternativa\n",
    "\n",
    "df.select(col('title'),col('video_id'),col('trending_date')).show()"
   ]
  },
  {
   "cell_type": "code",
   "execution_count": 2,
   "metadata": {},
   "outputs": [],
   "source": [
    "spark.sparkContext.stop()"
   ]
  }
 ],
 "metadata": {
  "kernelspec": {
   "display_name": "venv",
   "language": "python",
   "name": "python3"
  },
  "language_info": {
   "codemirror_mode": {
    "name": "ipython",
    "version": 3
   },
   "file_extension": ".py",
   "mimetype": "text/x-python",
   "name": "python",
   "nbconvert_exporter": "python",
   "pygments_lexer": "ipython3",
   "version": "3.10.4"
  }
 },
 "nbformat": 4,
 "nbformat_minor": 2
}

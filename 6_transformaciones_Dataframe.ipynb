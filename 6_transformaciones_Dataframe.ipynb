{
 "cells": [
  {
   "cell_type": "markdown",
   "metadata": {},
   "source": [
    "# Transformaciones de DataFrames"
   ]
  },
  {
   "cell_type": "code",
   "execution_count": 3,
   "metadata": {},
   "outputs": [],
   "source": [
    "from pyspark.sql import SparkSession\n",
    "from pyspark.sql.functions import col\n",
    "\n",
    "# directorio donde estan los datos\n",
    "path = 'files/'\n",
    "\n",
    "spark = SparkSession.builder.getOrCreate()"
   ]
  },
  {
   "cell_type": "code",
   "execution_count": 4,
   "metadata": {},
   "outputs": [
    {
     "name": "stdout",
     "output_type": "stream",
     "text": [
      "root\n",
      " |-- video_id: string (nullable = true)\n",
      " |-- trending_date: string (nullable = true)\n",
      " |-- title: string (nullable = true)\n",
      " |-- channel_title: string (nullable = true)\n",
      " |-- category_id: string (nullable = true)\n",
      " |-- publish_time: string (nullable = true)\n",
      " |-- tags: string (nullable = true)\n",
      " |-- views: string (nullable = true)\n",
      " |-- likes: string (nullable = true)\n",
      " |-- dislikes: string (nullable = true)\n",
      " |-- comment_count: string (nullable = true)\n",
      " |-- thumbnail_link: string (nullable = true)\n",
      " |-- comments_disabled: string (nullable = true)\n",
      " |-- ratings_disabled: string (nullable = true)\n",
      " |-- video_error_or_removed: string (nullable = true)\n",
      " |-- description: string (nullable = true)\n",
      "\n"
     ]
    }
   ],
   "source": [
    "# Cargar DataFrame\n",
    "df = spark.read.parquet(path+'dataPARQUET.parquet')\n",
    "\n",
    "df.printSchema()"
   ]
  },
  {
   "cell_type": "markdown",
   "metadata": {},
   "source": [
    "## Seleccionar columnas"
   ]
  },
  {
   "cell_type": "code",
   "execution_count": 11,
   "metadata": {},
   "outputs": [
    {
     "name": "stdout",
     "output_type": "stream",
     "text": [
      "+--------------------+-----------+\n",
      "|               title|   video_id|\n",
      "+--------------------+-----------+\n",
      "|WE WANT TO TALK A...|2kyS6SvSYSE|\n",
      "|The Trump Preside...|1ZAPwfrtAFY|\n",
      "|Racist Superman |...|5qpjK5DgCt4|\n",
      "|Nickelback Lyrics...|puqaWrEC7tY|\n",
      "|I Dare You: GOING...|d380meD0W0M|\n",
      "|2 Weeks with iPho...|gHZ1Qz0KiKM|\n",
      "|Roy Moore & Jeff ...|39idVpFF7NQ|\n",
      "|5 Ice Cream Gadge...|nc99ccSXST0|\n",
      "|The Greatest Show...|jr9QtXwC9vc|\n",
      "|Why the rise of t...|TUmyygCMMGA|\n",
      "|Dion Lewis' 103-Y...|9wRQljFNDW8|\n",
      "|(SPOILERS) 'Shiva...|VifQlJit6A0|\n",
      "|Marshmello - Bloc...|5E4ZBSInqUU|\n",
      "|Which Countries A...|GgVmn66oK_A|\n",
      "|SHOPPING FOR NEW ...|TaTleo4cOs8|\n",
      "|    The New SpotMini|kgaO45SyaO4|\n",
      "|One Change That W...|ZAQs-ctOqXQ|\n",
      "|How does your bod...|YVfyYrEmzgM|\n",
      "|HomeMade Electric...|eNSN6qet1kE|\n",
      "|Founding An Inbre...|B5HORANmzHw|\n",
      "+--------------------+-----------+\n",
      "only showing top 20 rows\n",
      "\n"
     ]
    }
   ],
   "source": [
    "# Primera alternativa para referirnos a las columnas\n",
    "df.select('title','video_id').show()"
   ]
  },
  {
   "cell_type": "code",
   "execution_count": 10,
   "metadata": {},
   "outputs": [
    {
     "name": "stdout",
     "output_type": "stream",
     "text": [
      "+--------------------+-----------+-------------+\n",
      "|               title|   video_id|trending_date|\n",
      "+--------------------+-----------+-------------+\n",
      "|WE WANT TO TALK A...|2kyS6SvSYSE|     17.14.11|\n",
      "|The Trump Preside...|1ZAPwfrtAFY|     17.14.11|\n",
      "|Racist Superman |...|5qpjK5DgCt4|     17.14.11|\n",
      "|Nickelback Lyrics...|puqaWrEC7tY|     17.14.11|\n",
      "|I Dare You: GOING...|d380meD0W0M|     17.14.11|\n",
      "|2 Weeks with iPho...|gHZ1Qz0KiKM|     17.14.11|\n",
      "|Roy Moore & Jeff ...|39idVpFF7NQ|     17.14.11|\n",
      "|5 Ice Cream Gadge...|nc99ccSXST0|     17.14.11|\n",
      "|The Greatest Show...|jr9QtXwC9vc|     17.14.11|\n",
      "|Why the rise of t...|TUmyygCMMGA|     17.14.11|\n",
      "|Dion Lewis' 103-Y...|9wRQljFNDW8|     17.14.11|\n",
      "|(SPOILERS) 'Shiva...|VifQlJit6A0|     17.14.11|\n",
      "|Marshmello - Bloc...|5E4ZBSInqUU|     17.14.11|\n",
      "|Which Countries A...|GgVmn66oK_A|     17.14.11|\n",
      "|SHOPPING FOR NEW ...|TaTleo4cOs8|     17.14.11|\n",
      "|    The New SpotMini|kgaO45SyaO4|     17.14.11|\n",
      "|One Change That W...|ZAQs-ctOqXQ|     17.14.11|\n",
      "|How does your bod...|YVfyYrEmzgM|     17.14.11|\n",
      "|HomeMade Electric...|eNSN6qet1kE|     17.14.11|\n",
      "|Founding An Inbre...|B5HORANmzHw|     17.14.11|\n",
      "+--------------------+-----------+-------------+\n",
      "only showing top 20 rows\n",
      "\n"
     ]
    }
   ],
   "source": [
    "# Segunda alternativa\n",
    "df.select(col('title'),col('video_id'),col('trending_date')).show()"
   ]
  },
  {
   "cell_type": "markdown",
   "metadata": {},
   "source": [
    "## Seleccion de columnas - Avanzado"
   ]
  },
  {
   "cell_type": "markdown",
   "metadata": {},
   "source": [
    "### Funcion select"
   ]
  },
  {
   "cell_type": "code",
   "execution_count": 12,
   "metadata": {},
   "outputs": [
    {
     "name": "stdout",
     "output_type": "stream",
     "text": [
      "root\n",
      " |-- video_id: string (nullable = true)\n",
      " |-- trending_date: string (nullable = true)\n",
      " |-- title: string (nullable = true)\n",
      " |-- channel_title: string (nullable = true)\n",
      " |-- category_id: string (nullable = true)\n",
      " |-- publish_time: timestamp (nullable = true)\n",
      " |-- tags: string (nullable = true)\n",
      " |-- views: integer (nullable = true)\n",
      " |-- likes: integer (nullable = true)\n",
      " |-- dislikes: integer (nullable = true)\n",
      " |-- comment_count: integer (nullable = true)\n",
      " |-- thumbnail_link: string (nullable = true)\n",
      " |-- comments_disabled: string (nullable = true)\n",
      " |-- ratings_disabled: string (nullable = true)\n",
      " |-- video_error_or_removed: string (nullable = true)\n",
      " |-- description: string (nullable = true)\n",
      "\n"
     ]
    }
   ],
   "source": [
    "df = spark.read.parquet(path+'datos.parquet')\n",
    "\n",
    "df.printSchema()"
   ]
  },
  {
   "cell_type": "code",
   "execution_count": 16,
   "metadata": {},
   "outputs": [
    {
     "name": "stdout",
     "output_type": "stream",
     "text": [
      "+-----------+\n",
      "|   video_id|\n",
      "+-----------+\n",
      "|2kyS6SvSYSE|\n",
      "|1ZAPwfrtAFY|\n",
      "|5qpjK5DgCt4|\n",
      "|puqaWrEC7tY|\n",
      "|d380meD0W0M|\n",
      "+-----------+\n",
      "only showing top 5 rows\n",
      "\n"
     ]
    }
   ],
   "source": [
    "# Seleccionar una columna\n",
    "df.select(col('video_id')).show(5)"
   ]
  },
  {
   "cell_type": "code",
   "execution_count": 17,
   "metadata": {},
   "outputs": [
    {
     "name": "stdout",
     "output_type": "stream",
     "text": [
      "+-----------+-------------+\n",
      "|   video_id|trending_date|\n",
      "+-----------+-------------+\n",
      "|2kyS6SvSYSE|     17.14.11|\n",
      "|1ZAPwfrtAFY|     17.14.11|\n",
      "|5qpjK5DgCt4|     17.14.11|\n",
      "|puqaWrEC7tY|     17.14.11|\n",
      "|d380meD0W0M|     17.14.11|\n",
      "+-----------+-------------+\n",
      "only showing top 5 rows\n",
      "\n"
     ]
    }
   ],
   "source": [
    "# Seleccionar multiples columnas\n",
    "df.select('video_id', 'trending_date').show(5)"
   ]
  },
  {
   "cell_type": "code",
   "execution_count": 18,
   "metadata": {},
   "outputs": [
    {
     "name": "stdout",
     "output_type": "stream",
     "text": [
      "+-----------+-------------+--------------------+--------------------+-----------+-------------------+--------------------+-------+------+--------+-------------+--------------------+-----------------+----------------+----------------------+--------------------+\n",
      "|   video_id|trending_date|               title|       channel_title|category_id|       publish_time|                tags|  views| likes|dislikes|comment_count|      thumbnail_link|comments_disabled|ratings_disabled|video_error_or_removed|         description|\n",
      "+-----------+-------------+--------------------+--------------------+-----------+-------------------+--------------------+-------+------+--------+-------------+--------------------+-----------------+----------------+----------------------+--------------------+\n",
      "|2kyS6SvSYSE|     17.14.11|WE WANT TO TALK A...|        CaseyNeistat|         22|2017-11-13 12:13:01|     SHANtell martin| 748374| 57527|    2966|        15954|https://i.ytimg.c...|            False|           False|                 False|SHANTELL'S CHANNE...|\n",
      "|1ZAPwfrtAFY|     17.14.11|The Trump Preside...|     LastWeekTonight|         24|2017-11-13 02:30:00|\"last week tonigh...|2418783| 97185|    6146|        12703|https://i.ytimg.c...|            False|           False|                 False|One year after th...|\n",
      "|5qpjK5DgCt4|     17.14.11|Racist Superman |...|        Rudy Mancuso|         23|2017-11-12 14:05:24|\"racist superman\"...|3191434|146033|    5339|         8181|https://i.ytimg.c...|            False|           False|                 False|WATCH MY PREVIOUS...|\n",
      "|puqaWrEC7tY|     17.14.11|Nickelback Lyrics...|Good Mythical Mor...|         24|2017-11-13 06:00:04|\"rhett and link\"|...| 343168| 10172|     666|         2146|https://i.ytimg.c...|            False|           False|                 False|Today we find out...|\n",
      "|d380meD0W0M|     17.14.11|I Dare You: GOING...|            nigahiga|         24|2017-11-12 13:01:41|\"ryan\"|\"higa\"|\"hi...|2095731|132235|    1989|        17518|https://i.ytimg.c...|            False|           False|                 False|I know it's been ...|\n",
      "+-----------+-------------+--------------------+--------------------+-----------+-------------------+--------------------+-------+------+--------+-------------+--------------------+-----------------+----------------+----------------------+--------------------+\n",
      "only showing top 5 rows\n",
      "\n"
     ]
    }
   ],
   "source": [
    "# Seleccionar todas las columnas\n",
    "df.select('*').show(5)"
   ]
  },
  {
   "cell_type": "code",
   "execution_count": 19,
   "metadata": {},
   "outputs": [
    {
     "ename": "TypeError",
     "evalue": "unsupported operand type(s) for -: 'str' and 'str'",
     "output_type": "error",
     "traceback": [
      "\u001b[0;31m---------------------------------------------------------------------------\u001b[0m",
      "\u001b[0;31mTypeError\u001b[0m                                 Traceback (most recent call last)",
      "Cell \u001b[0;32mIn[19], line 7\u001b[0m\n\u001b[1;32m      1\u001b[0m \u001b[38;5;66;03m# Con solo select no se pueden crear expresiones ('likes' - 'dislikes')\u001b[39;00m\n\u001b[1;32m      2\u001b[0m \u001b[38;5;66;03m# Esta vía nos dará error\u001b[39;00m\n\u001b[1;32m      4\u001b[0m df\u001b[38;5;241m.\u001b[39mselect(\n\u001b[1;32m      5\u001b[0m     \u001b[38;5;124m'\u001b[39m\u001b[38;5;124mlikes\u001b[39m\u001b[38;5;124m'\u001b[39m,\n\u001b[1;32m      6\u001b[0m     \u001b[38;5;124m'\u001b[39m\u001b[38;5;124mdislikes\u001b[39m\u001b[38;5;124m'\u001b[39m,\n\u001b[0;32m----> 7\u001b[0m     (\u001b[38;5;124;43m'\u001b[39;49m\u001b[38;5;124;43mlikes\u001b[39;49m\u001b[38;5;124;43m'\u001b[39;49m\u001b[43m \u001b[49m\u001b[38;5;241;43m-\u001b[39;49m\u001b[43m \u001b[49m\u001b[38;5;124;43m'\u001b[39;49m\u001b[38;5;124;43mdislikes\u001b[39;49m\u001b[38;5;124;43m'\u001b[39;49m)\n\u001b[1;32m      8\u001b[0m )\u001b[38;5;241m.\u001b[39mshow()\n",
      "\u001b[0;31mTypeError\u001b[0m: unsupported operand type(s) for -: 'str' and 'str'"
     ]
    }
   ],
   "source": [
    "# Con solo select no se pueden crear expresiones ('likes' - 'dislikes')\n",
    "# Esta vía nos dará error\n",
    "\n",
    "df.select(\n",
    "    'likes',\n",
    "    'dislikes',\n",
    "    ('likes' - 'dislikes')\n",
    ").show(5)"
   ]
  },
  {
   "cell_type": "code",
   "execution_count": 21,
   "metadata": {},
   "outputs": [
    {
     "name": "stdout",
     "output_type": "stream",
     "text": [
      "+------+--------+----------+\n",
      "| likes|dislikes|aceptacion|\n",
      "+------+--------+----------+\n",
      "| 57527|    2966|     54561|\n",
      "| 97185|    6146|     91039|\n",
      "|146033|    5339|    140694|\n",
      "| 10172|     666|      9506|\n",
      "|132235|    1989|    130246|\n",
      "+------+--------+----------+\n",
      "only showing top 5 rows\n",
      "\n"
     ]
    }
   ],
   "source": [
    "# Con el metodo col si se pueden crear las expresiones\n",
    "# Forma correcta\n",
    "\n",
    "df.select(\n",
    "    col('likes'),\n",
    "    col('dislikes'),\n",
    "    (col('likes') - col('dislikes')).alias('aceptacion')\n",
    ").show(5)"
   ]
  },
  {
   "cell_type": "markdown",
   "metadata": {},
   "source": [
    "### Funcion selectExpr"
   ]
  },
  {
   "cell_type": "code",
   "execution_count": 22,
   "metadata": {},
   "outputs": [
    {
     "name": "stdout",
     "output_type": "stream",
     "text": [
      "+------+--------+----------+\n",
      "| likes|dislikes|aceptacion|\n",
      "+------+--------+----------+\n",
      "| 57527|    2966|     54561|\n",
      "| 97185|    6146|     91039|\n",
      "|146033|    5339|    140694|\n",
      "| 10172|     666|      9506|\n",
      "|132235|    1989|    130246|\n",
      "+------+--------+----------+\n",
      "only showing top 5 rows\n",
      "\n"
     ]
    }
   ],
   "source": [
    "df.selectExpr('likes', 'dislikes', '(likes - dislikes) as aceptacion').show(5)"
   ]
  },
  {
   "cell_type": "code",
   "execution_count": 23,
   "metadata": {},
   "outputs": [
    {
     "name": "stdout",
     "output_type": "stream",
     "text": [
      "+------+\n",
      "|videos|\n",
      "+------+\n",
      "|  6837|\n",
      "+------+\n",
      "\n"
     ]
    }
   ],
   "source": [
    "df.selectExpr(\"count(distinct(video_id)) as videos\").show(5)\n"
   ]
  },
  {
   "cell_type": "code",
   "execution_count": 2,
   "metadata": {},
   "outputs": [],
   "source": [
    "spark.sparkContext.stop()"
   ]
  }
 ],
 "metadata": {
  "kernelspec": {
   "display_name": "venv",
   "language": "python",
   "name": "python3"
  },
  "language_info": {
   "codemirror_mode": {
    "name": "ipython",
    "version": 3
   },
   "file_extension": ".py",
   "mimetype": "text/x-python",
   "name": "python",
   "nbconvert_exporter": "python",
   "pygments_lexer": "ipython3",
   "version": "3.10.4"
  }
 },
 "nbformat": 4,
 "nbformat_minor": 2
}

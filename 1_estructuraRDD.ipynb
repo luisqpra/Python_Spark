{
 "cells": [
  {
   "cell_type": "markdown",
   "metadata": {},
   "source": [
    "# Transformaciones y acciones"
   ]
  },
  {
   "cell_type": "code",
   "execution_count": 178,
   "metadata": {},
   "outputs": [],
   "source": [
    "from pyspark import SparkContext\n",
    "from pyspark import rdd\n",
    "from operator import add\n",
    "from pyspark.sql.types import (StructType, \n",
    "                               StructField,\n",
    "                               IntegerType,\n",
    "                               StringType,\n",
    "                               FloatType,\n",
    "                               Row\n",
    "                               )\n",
    "from pyspark.sql import SQLContext"
   ]
  },
  {
   "cell_type": "code",
   "execution_count": 179,
   "metadata": {},
   "outputs": [],
   "source": [
    "# Crear contexto\n",
    "sc = SparkContext(\n",
    "    master=\"local\",\n",
    "    appName=\"estructuraRDD\"\n",
    "    )\n",
    "# sqlContext = SQLContext(sc)"
   ]
  },
  {
   "cell_type": "code",
   "execution_count": 180,
   "metadata": {},
   "outputs": [
    {
     "name": "stdout",
     "output_type": "stream",
     "text": [
      "Type:  <class 'pyspark.rdd.RDD'>\n"
     ]
    },
    {
     "data": {
      "text/plain": [
       "[1, 2, 3]"
      ]
     },
     "execution_count": 180,
     "metadata": {},
     "output_type": "execute_result"
    }
   ],
   "source": [
    "# Crear un RDD\n",
    "rdd1 = sc.parallelize([1,2,3])\n",
    "print(\"Type: \",type(rdd1))\n",
    "##  Visualizar RDD\n",
    "rdd1.collect()"
   ]
  },
  {
   "cell_type": "code",
   "execution_count": 181,
   "metadata": {},
   "outputs": [
    {
     "data": {
      "text/html": [
       "\n",
       "        <div>\n",
       "            <p><b>SparkContext</b></p>\n",
       "\n",
       "            <p><a href=\"http://192.168.1.17:4040\">Spark UI</a></p>\n",
       "\n",
       "            <dl>\n",
       "              <dt>Version</dt>\n",
       "                <dd><code>v3.5.0</code></dd>\n",
       "              <dt>Master</dt>\n",
       "                <dd><code>local</code></dd>\n",
       "              <dt>AppName</dt>\n",
       "                <dd><code>estructuraRDD</code></dd>\n",
       "            </dl>\n",
       "        </div>\n",
       "        "
      ],
      "text/plain": [
       "<SparkContext master=local appName=estructuraRDD>"
      ]
     },
     "execution_count": 181,
     "metadata": {},
     "output_type": "execute_result"
    }
   ],
   "source": [
    "# ver proceso en SPARK\n",
    "sc"
   ]
  },
  {
   "cell_type": "code",
   "execution_count": 182,
   "metadata": {},
   "outputs": [],
   "source": [
    "# PATH de archivos\n",
    "path =  \"/home/luis/Documents/Codes/Python_Spark/files/Olimpiadas/\""
   ]
  },
  {
   "cell_type": "code",
   "execution_count": 183,
   "metadata": {},
   "outputs": [
    {
     "data": {
      "text/plain": [
       "[['id', 'equipo', 'sigla'],\n",
       " ['1', '30. Februar', 'AUT'],\n",
       " ['2', 'A North American Team', 'MEX'],\n",
       " ['3', 'Acipactli', 'MEX'],\n",
       " ['4', 'Acturus', 'ARG'],\n",
       " ['5', 'Afghanistan', 'AFG'],\n",
       " ['6', 'Akatonbo', 'IRL'],\n",
       " ['7', 'Alain IV', 'SUI'],\n",
       " ['8', 'Albania', 'ALB'],\n",
       " ['9', 'Alcaid', 'POR']]"
      ]
     },
     "execution_count": 183,
     "metadata": {},
     "output_type": "execute_result"
    }
   ],
   "source": [
    "# Cargar archivos con RDD\n",
    "\n",
    "equiposOlimpicosRDD = sc.textFile(path+\"paises.csv\").map(\n",
    "    lambda line: line.split(\",\")\n",
    ")\n",
    "def cargaDeArchivos(file:str)->rdd:\n",
    "    archivo = sc.textFile(path+file).map(\n",
    "        lambda line: line.split(\",\")\n",
    "        )\n",
    "    return archivo\n",
    "\n",
    "equiposOlimpicosRDD = cargaDeArchivos(\"paises.csv\")\n",
    "\n",
    "# Visualizar RDD\n",
    "equiposOlimpicosRDD.take(10)"
   ]
  },
  {
   "cell_type": "code",
   "execution_count": 184,
   "metadata": {},
   "outputs": [
    {
     "data": {
      "text/plain": [
       "231"
      ]
     },
     "execution_count": 184,
     "metadata": {},
     "output_type": "execute_result"
    }
   ],
   "source": [
    "# Contar cantidad depaises distintos (columna 3)\n",
    "equiposOlimpicosRDD.map(\n",
    "    lambda x: (x[2])\n",
    ").distinct().count()"
   ]
  },
  {
   "cell_type": "code",
   "execution_count": 185,
   "metadata": {},
   "outputs": [
    {
     "data": {
      "text/plain": [
       "[('sigla', 1),\n",
       " ('AUT', 11),\n",
       " ('MEX', 9),\n",
       " ('ARG', 18),\n",
       " ('AFG', 1),\n",
       " ('IRL', 7),\n",
       " ('SUI', 17),\n",
       " ('ALB', 1),\n",
       " ('POR', 21),\n",
       " ('FRA', 155)]"
      ]
     },
     "execution_count": 185,
     "metadata": {},
     "output_type": "execute_result"
    }
   ],
   "source": [
    "# Contar equipo por pais (agrupando)\n",
    "equiposOlimpicosRDD.map(\n",
    "    lambda x: (x[2],x[1])\n",
    ").groupByKey().mapValues(len).take(10)"
   ]
  },
  {
   "cell_type": "code",
   "execution_count": 186,
   "metadata": {},
   "outputs": [
    {
     "data": {
      "text/plain": [
       "[['4', 'Acturus', 'ARG'],\n",
       " ['37', 'Antares', 'ARG'],\n",
       " ['42', 'Arcturus', 'ARG'],\n",
       " ['43', 'Ardilla', 'ARG'],\n",
       " ['45', 'Argentina', 'ARG'],\n",
       " ['46', 'Argentina-1', 'ARG'],\n",
       " ['47', 'Argentina-2', 'ARG'],\n",
       " ['119', 'Blue Red', 'ARG'],\n",
       " ['238', 'Covunco III', 'ARG'],\n",
       " ['252', 'Cupidon III', 'ARG'],\n",
       " ['288', 'Djinn', 'ARG'],\n",
       " ['436', 'Gullvinge', 'ARG'],\n",
       " ['644', 'Matrero II', 'ARG'],\n",
       " ['672', 'Mizar', 'ARG'],\n",
       " ['774', 'Pampero', 'ARG'],\n",
       " ['843', 'Rampage', 'ARG'],\n",
       " ['1031', 'Tango', 'ARG'],\n",
       " ['1162', 'Wiking', 'ARG']]"
      ]
     },
     "execution_count": 186,
     "metadata": {},
     "output_type": "execute_result"
    }
   ],
   "source": [
    "# Analisar solo un equipo (filtrando)\n",
    "equipoasArgentinos = equiposOlimpicosRDD.filter(\n",
    "    lambda x: \"ARG\" in x\n",
    ")\n",
    "equipoasArgentinos.collect()"
   ]
  },
  {
   "cell_type": "code",
   "execution_count": 187,
   "metadata": {},
   "outputs": [
    {
     "data": {
      "text/plain": [
       "18"
      ]
     },
     "execution_count": 187,
     "metadata": {},
     "output_type": "execute_result"
    }
   ],
   "source": [
    "# Validar cantidad de datos antes de usar el collect\n",
    "equipoasArgentinos.count() "
   ]
  },
  {
   "cell_type": "code",
   "execution_count": 188,
   "metadata": {},
   "outputs": [
    {
     "data": {
      "text/plain": [
       "1185"
      ]
     },
     "execution_count": 188,
     "metadata": {},
     "output_type": "execute_result"
    }
   ],
   "source": [
    "# contar por tiempo (milisegundos)\n",
    "equiposOlimpicosRDD.countApprox(20) # 20 milisegundos"
   ]
  },
  {
   "cell_type": "code",
   "execution_count": 189,
   "metadata": {},
   "outputs": [
    {
     "name": "stderr",
     "output_type": "stream",
     "text": [
      "                                                                                \r"
     ]
    },
    {
     "data": {
      "text/plain": [
       "135572"
      ]
     },
     "execution_count": 189,
     "metadata": {},
     "output_type": "execute_result"
    }
   ],
   "source": [
    "# Cargar archivo deportistas.csv y deportistas 2\n",
    "deportistaOlimpicoRDD = cargaDeArchivos(\"deportista.csv\")\n",
    "deportistaOlimpicoRDD2 = cargaDeArchivos(\"deportista2.csv\")\n",
    "\n",
    "# Unir ambas bases de datos de deportistas\n",
    "deportistaOlimpicoRDD = deportistaOlimpicoRDD.union(deportistaOlimpicoRDD2)\n",
    "deportistaOlimpicoRDD.count()"
   ]
  },
  {
   "cell_type": "code",
   "execution_count": 190,
   "metadata": {},
   "outputs": [
    {
     "name": "stdout",
     "output_type": "stream",
     "text": [
      "[['id', 'equipo', 'sigla']]\n",
      "[['deportista_id', 'nombre', 'genero', 'edad', 'altura', 'peso', 'equipo_id']]\n"
     ]
    }
   ],
   "source": [
    "# Ver cabeceras de los archivos\n",
    "print(equiposOlimpicosRDD.top(1))\n",
    "print(deportistaOlimpicoRDD.top(1))"
   ]
  },
  {
   "cell_type": "code",
   "execution_count": 191,
   "metadata": {},
   "outputs": [
    {
     "name": "stderr",
     "output_type": "stream",
     "text": [
      "                                                                                \r"
     ]
    },
    {
     "data": {
      "text/plain": [
       "[('1096',\n",
       "  (['18804', 'Kellogg Kennon Venable Casey', '1', '30', '0', '0'], 'USA')),\n",
       " ('624', (['13109', 'Harry Arthur Bonavia', '1', '20', '0', '0'], 'MLT')),\n",
       " ('576', (['32099', 'Assaf ElMurr', '1', '24', '0', '0'], 'LIB')),\n",
       " ('1178', (['97638', 'Oto Pustoslemek', '1', '20', '0', '0'], 'YUG')),\n",
       " ('399', (['129142', 'Marc Weber', '1', '24', '191', '91'], 'GER')),\n",
       " ('514', (['118314', 'Asuna Tanaka', '2', '24', '164', '52'], 'JPN')),\n",
       " ('273',\n",
       "  (['56134', 'Niels Christian Kold Jrgensen', '1', '21', '0', '0'], 'DEN')),\n",
       " ('198', (['129714', 'Claudio Wernli', '1', '21', '172', '68'], 'CHI')),\n",
       " ('362',\n",
       "  (['14043', 'Julien Joseph Jean Boullery', '1', '25', '0', '0'], 'FRA')),\n",
       " ('770', (['104143', 'Mamoon Sadiq', '1', '23', '0', '0'], 'PAK')),\n",
       " ('199', (['110045', 'Shu Siyao', '2', '23', '167', '52'], 'CHN')),\n",
       " ('514', (['132430', 'Atsushi Yanagisawa', '1', '23', '177', '72'], 'JPN')),\n",
       " ('507', (['135386', 'Enea Zuffi', '1', '20', '0', '0'], 'ITA')),\n",
       " ('810',\n",
       "  (['8368', 'Edmund Ludwik Bartomiejczyk', '1', '46', '0', '0'], 'POL')),\n",
       " ('477', (['29229', 'Rudolf Dombi', '1', '25', '180', '79'], 'HUN'))]"
      ]
     },
     "execution_count": 191,
     "metadata": {},
     "output_type": "execute_result"
    }
   ],
   "source": [
    "# Unir datos de deportistas con equipos\n",
    "deportistaOlimpicoRDD.map(lambda x: [x[-1],x[:-1]]).join(\n",
    "    equiposOlimpicosRDD.map(lambda y: [y[0],y[2]])\n",
    ").takeSample(False,15,25)"
   ]
  },
  {
   "cell_type": "code",
   "execution_count": 192,
   "metadata": {},
   "outputs": [
    {
     "data": {
      "text/plain": [
       "[['16847', 'Silver', '9033', '19', '3'],\n",
       " ['266698', 'NA', '133415', '45', '253'],\n",
       " ['163852', 'NA', '82236', '31', '198'],\n",
       " ['128275', 'NA', '64585', '7', '325'],\n",
       " ['24154', 'NA', '12669', '36', '39'],\n",
       " ['38532', 'NA', '19819', '29', '43'],\n",
       " ['176631', 'NA', '88816', '30', '370'],\n",
       " ['102605', 'NA', '51907', '51', '110'],\n",
       " ['216052', 'NA', '108448', '23', '110'],\n",
       " ['214964', 'NA', '107907', '7', '98']]"
      ]
     },
     "execution_count": 192,
     "metadata": {},
     "output_type": "execute_result"
    }
   ],
   "source": [
    "# cargar el resultado de los deportistas\n",
    "resultadosOlimpicos = cargaDeArchivos(\"resultados.csv\")\n",
    "resultadosOlimpicos.takeSample(False,10,27)"
   ]
  },
  {
   "cell_type": "code",
   "execution_count": 193,
   "metadata": {},
   "outputs": [],
   "source": [
    "# Eliminar deportistas que no ganaron medalla\n",
    "resultadosOlimpicosGanadores = resultadosOlimpicos.filter(\n",
    "    lambda l: l[1] != \"NA\"\n",
    ")"
   ]
  },
  {
   "cell_type": "code",
   "execution_count": 194,
   "metadata": {},
   "outputs": [
    {
     "data": {
      "text/plain": [
       "[['resultado_id', 'medalla', 'deportista_id', 'juego_id', 'evento_id'],\n",
       " ['4', 'Gold', '4', '2', '4']]"
      ]
     },
     "execution_count": 194,
     "metadata": {},
     "output_type": "execute_result"
    }
   ],
   "source": [
    "resultadosOlimpicosGanadores.take(2)"
   ]
  },
  {
   "cell_type": "code",
   "execution_count": 195,
   "metadata": {},
   "outputs": [
    {
     "name": "stderr",
     "output_type": "stream",
     "text": [
      "                                                                                \r"
     ]
    },
    {
     "data": {
      "text/plain": [
       "[('199', (['1', 'A Dijiang', '1', '24', '180', '80'], 'CHN')),\n",
       " ('199', (['2', 'A Lamusi', '1', '23', '170', '60'], 'CHN')),\n",
       " ('199', (['602', 'Abudoureheman', '1', '22', '182', '75'], 'CHN')),\n",
       " ('199', (['1463', 'Ai Linuer', '1', '25', '160', '62'], 'CHN')),\n",
       " ('199', (['1464', 'Ai Yanhan', '2', '14', '168', '54'], 'CHN'))]"
      ]
     },
     "execution_count": 195,
     "metadata": {},
     "output_type": "execute_result"
    }
   ],
   "source": [
    "# Poner el pais de origen a los deportistas\n",
    "deportistaPaises = deportistaOlimpicoRDD.map(\n",
    "        lambda x: [x[-1],x[:-1]]\n",
    "    ).join(\n",
    "        equiposOlimpicosRDD.map(\n",
    "            lambda y: [y[0],y[2]]\n",
    "        )\n",
    "    )\n",
    "deportistaPaises.take(5)"
   ]
  },
  {
   "cell_type": "code",
   "execution_count": 196,
   "metadata": {},
   "outputs": [
    {
     "name": "stderr",
     "output_type": "stream",
     "text": [
      "                                                                                \r"
     ]
    },
    {
     "data": {
      "text/plain": [
       "[('74',\n",
       "  ((['65', 'Patimat Abakarova', '2', '21', '165', '49'], 'AZE'), 'Gold')),\n",
       " ('74', ((['129', 'Ruslan Abbasov', '1', '22', '181', '74'], 'AZE'), 'Gold')),\n",
       " ('74', ((['130', 'Tural Abbasov', '1', '18', '182', '76'], 'AZE'), 'Gold')),\n",
       " ('74', ((['131', 'Tran Abbasova', '2', '33', '159', '53'], 'AZE'), 'Gold')),\n",
       " ('74',\n",
       "  ((['335', 'Abdulqdir Abdullayev', '1', '28', '188', '91'], 'AZE'), 'Gold'))]"
      ]
     },
     "execution_count": 196,
     "metadata": {},
     "output_type": "execute_result"
    }
   ],
   "source": [
    "# filtrar solo por ganadores de medallas\n",
    "paisesMedallas=deportistaPaises.join(resultadosOlimpicosGanadores)\n",
    "paisesMedallas.take(5)"
   ]
  },
  {
   "cell_type": "code",
   "execution_count": 197,
   "metadata": {},
   "outputs": [],
   "source": [
    "valoresMedallas = {\n",
    "    'Gold': 7,\n",
    "    'Silver': 4,\n",
    "    'Bronze':3\n",
    "}"
   ]
  },
  {
   "cell_type": "code",
   "execution_count": 198,
   "metadata": {},
   "outputs": [
    {
     "name": "stderr",
     "output_type": "stream",
     "text": [
      "                                                                                \r"
     ]
    },
    {
     "data": {
      "text/plain": [
       "[('ARG', 12519),\n",
       " ('FIN', 33),\n",
       " ('USA', 1319),\n",
       " ('GRE', 182),\n",
       " ('IRL', 14),\n",
       " ('STP', 39),\n",
       " ('BHU', 147),\n",
       " ('CAN', 32427),\n",
       " ('ANZ', 129),\n",
       " ('THA', 14)]"
      ]
     },
     "execution_count": 198,
     "metadata": {},
     "output_type": "execute_result"
    }
   ],
   "source": [
    "paisesMedallas = paisesMedallas.map(\n",
    "    lambda x: \n",
    "        (x[1][0][-1],\n",
    "        valoresMedallas[x[1][1]])\n",
    "     )\n",
    "paisesMedallas.groupByKey().mapValues(sum).take(10)"
   ]
  },
  {
   "cell_type": "code",
   "execution_count": 199,
   "metadata": {},
   "outputs": [
    {
     "name": "stderr",
     "output_type": "stream",
     "text": [
      "                                                                                \r"
     ]
    },
    {
     "data": {
      "text/plain": [
       "[('CAN', 32427),\n",
       " ('ARG', 12519),\n",
       " ('HUN', 8145),\n",
       " ('MEX', 4593),\n",
       " ('BLR', 2864),\n",
       " ('RSA', 2841),\n",
       " ('USA', 1319),\n",
       " ('LTU', 1228),\n",
       " ('AZE', 1218),\n",
       " ('MGL', 1168)]"
      ]
     },
     "execution_count": 199,
     "metadata": {},
     "output_type": "execute_result"
    }
   ],
   "source": [
    "paisesMedallas.reduceByKey((add)).sortBy(\n",
    "    lambda x: x[1],ascending=False\n",
    "    ).take(10)"
   ]
  },
  {
   "cell_type": "code",
   "execution_count": 200,
   "metadata": {},
   "outputs": [
    {
     "data": {
      "text/html": [
       "\n",
       "        <div>\n",
       "            <p><b>SparkContext</b></p>\n",
       "\n",
       "            <p><a href=\"http://192.168.1.17:4040\">Spark UI</a></p>\n",
       "\n",
       "            <dl>\n",
       "              <dt>Version</dt>\n",
       "                <dd><code>v3.5.0</code></dd>\n",
       "              <dt>Master</dt>\n",
       "                <dd><code>local</code></dd>\n",
       "              <dt>AppName</dt>\n",
       "                <dd><code>estructuraRDD</code></dd>\n",
       "            </dl>\n",
       "        </div>\n",
       "        "
      ],
      "text/plain": [
       "<SparkContext master=local appName=estructuraRDD>"
      ]
     },
     "execution_count": 200,
     "metadata": {},
     "output_type": "execute_result"
    }
   ],
   "source": [
    "sc"
   ]
  },
  {
   "cell_type": "code",
   "execution_count": 201,
   "metadata": {},
   "outputs": [],
   "source": [
    "# Cerrar sesion (importante hacerlo)\n",
    "sc.stop()"
   ]
  },
  {
   "cell_type": "code",
   "execution_count": null,
   "metadata": {},
   "outputs": [],
   "source": []
  }
 ],
 "metadata": {
  "kernelspec": {
   "display_name": "venv",
   "language": "python",
   "name": "python3"
  },
  "language_info": {
   "codemirror_mode": {
    "name": "ipython",
    "version": 3
   },
   "file_extension": ".py",
   "mimetype": "text/x-python",
   "name": "python",
   "nbconvert_exporter": "python",
   "pygments_lexer": "ipython3",
   "version": "3.10.4"
  }
 },
 "nbformat": 4,
 "nbformat_minor": 2
}

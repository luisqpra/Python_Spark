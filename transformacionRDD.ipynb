{
 "cells": [
  {
   "cell_type": "code",
   "execution_count": 12,
   "metadata": {},
   "outputs": [],
   "source": [
    "from pyspark.sql import SparkSession\n",
    "\n",
    "spark = SparkSession.builder.getOrCreate()"
   ]
  },
  {
   "cell_type": "code",
   "execution_count": 13,
   "metadata": {},
   "outputs": [],
   "source": [
    "# Crear contexto\n",
    "sc = spark.sparkContext"
   ]
  },
  {
   "cell_type": "code",
   "execution_count": 14,
   "metadata": {},
   "outputs": [
    {
     "data": {
      "text/plain": [
       "[1, 2, 3, 4, 5]"
      ]
     },
     "execution_count": 14,
     "metadata": {},
     "output_type": "execute_result"
    }
   ],
   "source": [
    "# Crear RDD con datos numericos\n",
    "rdd = sc.parallelize([1, 2, 3, 4, 5, 6, 7, 8, 9])\n",
    "rdd.collect()"
   ]
  },
  {
   "cell_type": "code",
   "execution_count": 15,
   "metadata": {},
   "outputs": [],
   "source": [
    "# Crear RDD con datos de texto\n",
    "rdd_texto = sc.parallelize(['jose', 'juan', 'lucia'])"
   ]
  },
  {
   "cell_type": "markdown",
   "metadata": {},
   "source": [
    "### Transformaciones: funcion **map**"
   ]
  },
  {
   "cell_type": "code",
   "execution_count": 16,
   "metadata": {},
   "outputs": [
    {
     "name": "stderr",
     "output_type": "stream",
     "text": [
      "                                                                                \r"
     ]
    },
    {
     "data": {
      "text/plain": [
       "[0, 1, 2, 3, 4]"
      ]
     },
     "execution_count": 16,
     "metadata": {},
     "output_type": "execute_result"
    }
   ],
   "source": [
    "# Resta con lambda\n",
    "rdd_resta = rdd.map(lambda x: x - 1)\n",
    "rdd_resta.collect()"
   ]
  },
  {
   "cell_type": "code",
   "execution_count": 17,
   "metadata": {},
   "outputs": [
    {
     "data": {
      "text/plain": [
       "[False, True, False, True, False]"
      ]
     },
     "execution_count": 17,
     "metadata": {},
     "output_type": "execute_result"
    }
   ],
   "source": [
    "# Validar si el numero es par\n",
    "rdd_par = rdd.map(lambda x: x % 2 == 0)\n",
    "rdd_par.collect()"
   ]
  },
  {
   "cell_type": "code",
   "execution_count": 18,
   "metadata": {},
   "outputs": [
    {
     "data": {
      "text/plain": [
       "['JOSE', 'JUAN', 'LUCIA']"
      ]
     },
     "execution_count": 18,
     "metadata": {},
     "output_type": "execute_result"
    }
   ],
   "source": [
    "# Version de RDD texto en mayusculas\n",
    "rdd_mayuscula = rdd_texto.map(lambda x: x.upper())\n",
    "rdd_mayuscula.collect()"
   ]
  },
  {
   "cell_type": "code",
   "execution_count": 19,
   "metadata": {},
   "outputs": [
    {
     "data": {
      "text/plain": [
       "['Hola jose', 'Hola juan', 'Hola lucia']"
      ]
     },
     "execution_count": 19,
     "metadata": {},
     "output_type": "execute_result"
    }
   ],
   "source": [
    "# RDD texto saludo Hola\n",
    "rdd_hola = rdd_texto.map(lambda x: 'Hola ' + x)\n",
    "\n",
    "rdd_hola.collect()"
   ]
  },
  {
   "cell_type": "markdown",
   "metadata": {},
   "source": [
    "### Transformaciones: funcion **flatMap**"
   ]
  },
  {
   "cell_type": "code",
   "execution_count": 23,
   "metadata": {},
   "outputs": [
    {
     "data": {
      "text/plain": [
       "[(1, 1, (3, 4)),\n",
       " (2, 4, (6, 8)),\n",
       " (3, 9, (9, 12)),\n",
       " (4, 16, (12, 16)),\n",
       " (5, 25, (15, 20))]"
      ]
     },
     "execution_count": 23,
     "metadata": {},
     "output_type": "execute_result"
    }
   ],
   "source": [
    "# cordenadas exponente 2\n",
    "rdd_cuadrado = rdd.map(lambda x: (x, x ** 2,(x*3,x*4)))\n",
    "\n",
    "rdd_cuadrado.collect()"
   ]
  },
  {
   "cell_type": "code",
   "execution_count": 24,
   "metadata": {},
   "outputs": [
    {
     "data": {
      "text/plain": [
       "[1, 1, (3, 4), 2, 4, (6, 8), 3, 9, (9, 12), 4, 16, (12, 16), 5, 25, (15, 20)]"
      ]
     },
     "execution_count": 24,
     "metadata": {},
     "output_type": "execute_result"
    }
   ],
   "source": [
    "# Aplanar datos (retornar en una lista): solo sube un nivel \n",
    "rdd_cuadrado_flat = rdd.flatMap(lambda x: (x, x ** 2,(x*3,x*4)))\n",
    "rdd_cuadrado_flat.collect()"
   ]
  },
  {
   "cell_type": "code",
   "execution_count": 25,
   "metadata": {},
   "outputs": [
    {
     "data": {
      "text/plain": [
       "['jose', 'JOSE', 'juan', 'JUAN', 'lucia', 'LUCIA']"
      ]
     },
     "execution_count": 25,
     "metadata": {},
     "output_type": "execute_result"
    }
   ],
   "source": [
    "# Ejemplo en texto\n",
    "rdd_texto = sc.parallelize(['jose', 'juan', 'lucia'])\n",
    "\n",
    "rdd_mayuscula = rdd_texto.flatMap(lambda x: (x, x.upper()))\n",
    "\n",
    "rdd_mayuscula.collect()"
   ]
  },
  {
   "cell_type": "markdown",
   "metadata": {},
   "source": [
    "### Transformaciones: funcion **filter**"
   ]
  },
  {
   "cell_type": "code",
   "execution_count": 28,
   "metadata": {},
   "outputs": [
    {
     "data": {
      "text/plain": [
       "[2, 4, 6, 8]"
      ]
     },
     "execution_count": 28,
     "metadata": {},
     "output_type": "execute_result"
    }
   ],
   "source": [
    "# Extraer los numeros pares\n",
    "rdd = sc.parallelize([1, 2, 3, 4, 5, 6, 7, 8, 9])\n",
    "\n",
    "rdd_par = rdd.filter(lambda x: x % 2 == 0)\n",
    "\n",
    "rdd_par.collect()"
   ]
  },
  {
   "cell_type": "code",
   "execution_count": 29,
   "metadata": {},
   "outputs": [
    {
     "name": "stderr",
     "output_type": "stream",
     "text": [
      "                                                                                \r"
     ]
    },
    {
     "data": {
      "text/plain": [
       "[1, 3, 5, 7, 9]"
      ]
     },
     "execution_count": 29,
     "metadata": {},
     "output_type": "execute_result"
    }
   ],
   "source": [
    "# Extraer numeros impares\n",
    "\n",
    "rdd_impar = rdd.filter(lambda x: x % 2 != 0)\n",
    "\n",
    "rdd_impar.collect()"
   ]
  },
  {
   "cell_type": "code",
   "execution_count": 31,
   "metadata": {},
   "outputs": [
    {
     "data": {
      "text/plain": [
       "['karla', 'katia']"
      ]
     },
     "execution_count": 31,
     "metadata": {},
     "output_type": "execute_result"
    }
   ],
   "source": [
    "# Extraer solo nombres con la inicial k\n",
    "rdd_texto = sc.parallelize(\n",
    "    ['jose', 'juaquin', 'juan', 'lucia', 'karla', 'katia'])\n",
    "\n",
    "# rdd_k = rdd_texto.filter(lambda x: x[0] == 'k')\n",
    "rdd_k = rdd_texto.filter(lambda x: x.startswith('k'))\n",
    "\n",
    "rdd_k.collect()"
   ]
  },
  {
   "cell_type": "code",
   "execution_count": 36,
   "metadata": {},
   "outputs": [
    {
     "data": {
      "text/plain": [
       "['juaquin', 'juan']"
      ]
     },
     "execution_count": 36,
     "metadata": {},
     "output_type": "execute_result"
    }
   ],
   "source": [
    "# Extraer nombres con la inicial j y que la segunda letra sea una u\n",
    "# rdd_filtro = rdd_texto.filter(lambda x: x[0] == 'j' and x[1] == 'u')\n",
    "rdd_filtro = rdd_texto.filter(lambda x: x.startswith('j') and x.find('u') == 1)\n",
    "\n",
    "rdd_filtro.collect()\n"
   ]
  },
  {
   "cell_type": "markdown",
   "metadata": {},
   "source": [
    "### Transformaciones: funcion **coalesce**"
   ]
  },
  {
   "cell_type": "code",
   "execution_count": null,
   "metadata": {},
   "outputs": [],
   "source": []
  },
  {
   "cell_type": "code",
   "execution_count": 11,
   "metadata": {},
   "outputs": [],
   "source": [
    "spark.stop()"
   ]
  }
 ],
 "metadata": {
  "kernelspec": {
   "display_name": "venv",
   "language": "python",
   "name": "python3"
  },
  "language_info": {
   "codemirror_mode": {
    "name": "ipython",
    "version": 3
   },
   "file_extension": ".py",
   "mimetype": "text/x-python",
   "name": "python",
   "nbconvert_exporter": "python",
   "pygments_lexer": "ipython3",
   "version": "3.10.4"
  }
 },
 "nbformat": 4,
 "nbformat_minor": 2
}

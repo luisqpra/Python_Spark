{
 "cells": [
  {
   "cell_type": "markdown",
   "metadata": {},
   "source": [
    "# Avanzado Data Frame"
   ]
  },
  {
   "cell_type": "code",
   "execution_count": 11,
   "metadata": {},
   "outputs": [],
   "source": [
    "from pyspark.sql import SparkSession\n",
    "from pyspark.sql.functions import min, max, col\n",
    "from pyspark.sql.functions import sum, sum_distinct, avg, count\n",
    "from pyspark.sql.functions import desc\n",
    "# directorio donde estan los datos\n",
    "path = 'files/'"
   ]
  },
  {
   "cell_type": "code",
   "execution_count": 4,
   "metadata": {},
   "outputs": [
    {
     "name": "stderr",
     "output_type": "stream",
     "text": [
      "                                                                                \r"
     ]
    }
   ],
   "source": [
    "spark = SparkSession.builder.getOrCreate()\n",
    "df_vuelos = spark.read.parquet(path+'vuelos.parquet')"
   ]
  },
  {
   "cell_type": "code",
   "execution_count": 16,
   "metadata": {},
   "outputs": [
    {
     "name": "stdout",
     "output_type": "stream",
     "text": [
      "root\n",
      " |-- YEAR: integer (nullable = true)\n",
      " |-- MONTH: integer (nullable = true)\n",
      " |-- DAY: integer (nullable = true)\n",
      " |-- DAY_OF_WEEK: integer (nullable = true)\n",
      " |-- AIRLINE: string (nullable = true)\n",
      " |-- FLIGHT_NUMBER: integer (nullable = true)\n",
      " |-- TAIL_NUMBER: string (nullable = true)\n",
      " |-- ORIGIN_AIRPORT: string (nullable = true)\n",
      " |-- DESTINATION_AIRPORT: string (nullable = true)\n",
      " |-- SCHEDULED_DEPARTURE: integer (nullable = true)\n",
      " |-- DEPARTURE_TIME: integer (nullable = true)\n",
      " |-- DEPARTURE_DELAY: integer (nullable = true)\n",
      " |-- TAXI_OUT: integer (nullable = true)\n",
      " |-- WHEELS_OFF: integer (nullable = true)\n",
      " |-- SCHEDULED_TIME: integer (nullable = true)\n",
      " |-- ELAPSED_TIME: integer (nullable = true)\n",
      " |-- AIR_TIME: integer (nullable = true)\n",
      " |-- DISTANCE: integer (nullable = true)\n",
      " |-- WHEELS_ON: integer (nullable = true)\n",
      " |-- TAXI_IN: integer (nullable = true)\n",
      " |-- SCHEDULED_ARRIVAL: integer (nullable = true)\n",
      " |-- ARRIVAL_TIME: integer (nullable = true)\n",
      " |-- ARRIVAL_DELAY: integer (nullable = true)\n",
      " |-- DIVERTED: integer (nullable = true)\n",
      " |-- CANCELLED: integer (nullable = true)\n",
      " |-- CANCELLATION_REASON: string (nullable = true)\n",
      " |-- AIR_SYSTEM_DELAY: integer (nullable = true)\n",
      " |-- SECURITY_DELAY: integer (nullable = true)\n",
      " |-- AIRLINE_DELAY: integer (nullable = true)\n",
      " |-- LATE_AIRCRAFT_DELAY: integer (nullable = true)\n",
      " |-- WEATHER_DELAY: integer (nullable = true)\n",
      "\n"
     ]
    }
   ],
   "source": [
    "df_vuelos.printSchema()"
   ]
  },
  {
   "cell_type": "code",
   "execution_count": 17,
   "metadata": {},
   "outputs": [
    {
     "name": "stdout",
     "output_type": "stream",
     "text": [
      "+----+-----+---+-----------+-------+-------------+-----------+--------------+-------------------+-------------------+--------------+---------------+--------+----------+--------------+------------+--------+--------+---------+-------+-----------------+------------+-------------+--------+---------+-------------------+----------------+--------------+-------------+-------------------+-------------+\n",
      "|YEAR|MONTH|DAY|DAY_OF_WEEK|AIRLINE|FLIGHT_NUMBER|TAIL_NUMBER|ORIGIN_AIRPORT|DESTINATION_AIRPORT|SCHEDULED_DEPARTURE|DEPARTURE_TIME|DEPARTURE_DELAY|TAXI_OUT|WHEELS_OFF|SCHEDULED_TIME|ELAPSED_TIME|AIR_TIME|DISTANCE|WHEELS_ON|TAXI_IN|SCHEDULED_ARRIVAL|ARRIVAL_TIME|ARRIVAL_DELAY|DIVERTED|CANCELLED|CANCELLATION_REASON|AIR_SYSTEM_DELAY|SECURITY_DELAY|AIRLINE_DELAY|LATE_AIRCRAFT_DELAY|WEATHER_DELAY|\n",
      "+----+-----+---+-----------+-------+-------------+-----------+--------------+-------------------+-------------------+--------------+---------------+--------+----------+--------------+------------+--------+--------+---------+-------+-----------------+------------+-------------+--------+---------+-------------------+----------------+--------------+-------------+-------------------+-------------+\n",
      "|2015|1    |1  |4          |AS     |98           |N407AS     |ANC           |SEA                |5                  |2354          |-11            |21      |15        |205           |194         |169     |1448    |404      |4      |430              |408         |-22          |0       |0        |NULL               |NULL            |NULL          |NULL         |NULL               |NULL         |\n",
      "|2015|1    |1  |4          |AA     |2336         |N3KUAA     |LAX           |PBI                |10                 |2             |-8             |12      |14        |280           |279         |263     |2330    |737      |4      |750              |741         |-9           |0       |0        |NULL               |NULL            |NULL          |NULL         |NULL               |NULL         |\n",
      "|2015|1    |1  |4          |US     |840          |N171US     |SFO           |CLT                |20                 |18            |-2             |16      |34        |286           |293         |266     |2296    |800      |11     |806              |811         |5            |0       |0        |NULL               |NULL            |NULL          |NULL         |NULL               |NULL         |\n",
      "|2015|1    |1  |4          |AA     |258          |N3HYAA     |LAX           |MIA                |20                 |15            |-5             |15      |30        |285           |281         |258     |2342    |748      |8      |805              |756         |-9           |0       |0        |NULL               |NULL            |NULL          |NULL         |NULL               |NULL         |\n",
      "|2015|1    |1  |4          |AS     |135          |N527AS     |SEA           |ANC                |25                 |24            |-1             |11      |35        |235           |215         |199     |1448    |254      |5      |320              |259         |-21          |0       |0        |NULL               |NULL            |NULL          |NULL         |NULL               |NULL         |\n",
      "+----+-----+---+-----------+-------+-------------+-----------+--------------+-------------------+-------------------+--------------+---------------+--------+----------+--------------+------------+--------+--------+---------+-------+-----------------+------------+-------------+--------+---------+-------------------+----------------+--------------+-------------+-------------------+-------------+\n",
      "only showing top 5 rows\n",
      "\n"
     ]
    }
   ],
   "source": [
    "df_vuelos.show(5, truncate=False)"
   ]
  },
  {
   "cell_type": "markdown",
   "metadata": {},
   "source": [
    "## Funciones"
   ]
  },
  {
   "cell_type": "code",
   "execution_count": 18,
   "metadata": {},
   "outputs": [],
   "source": [
    "from pyspark.sql import SparkSession\n",
    "from pyspark.sql.functions import count\n",
    "from pyspark.sql.functions import countDistinct\n",
    "from pyspark.sql.functions import approx_count_distinct"
   ]
  },
  {
   "cell_type": "code",
   "execution_count": 19,
   "metadata": {},
   "outputs": [
    {
     "name": "stdout",
     "output_type": "stream",
     "text": [
      "root\n",
      " |-- nombre: string (nullable = true)\n",
      " |-- color: string (nullable = true)\n",
      " |-- cantidad: long (nullable = true)\n",
      "\n"
     ]
    }
   ],
   "source": [
    "spark = SparkSession.builder.getOrCreate()\n",
    "\n",
    "df = spark.read.parquet(path+'dataframe.parquet')\n",
    "\n",
    "df.printSchema()"
   ]
  },
  {
   "cell_type": "code",
   "execution_count": 20,
   "metadata": {},
   "outputs": [
    {
     "name": "stdout",
     "output_type": "stream",
     "text": [
      "+------+-----+--------+\n",
      "|nombre|color|cantidad|\n",
      "+------+-----+--------+\n",
      "|  Jose| azul|    1900|\n",
      "|  NULL| NULL|    1700|\n",
      "|  NULL| rojo|    1300|\n",
      "|  Juan| rojo|    1500|\n",
      "+------+-----+--------+\n",
      "\n"
     ]
    }
   ],
   "source": [
    "df.show()"
   ]
  },
  {
   "cell_type": "markdown",
   "metadata": {},
   "source": [
    "### Count"
   ]
  },
  {
   "cell_type": "code",
   "execution_count": 25,
   "metadata": {},
   "outputs": [
    {
     "name": "stdout",
     "output_type": "stream",
     "text": [
      "+-------------+------------+---------------+\n",
      "|conteo_nombre|conteo_color|conteo_cantidad|\n",
      "+-------------+------------+---------------+\n",
      "|            2|           3|              4|\n",
      "+-------------+------------+---------------+\n",
      "\n"
     ]
    }
   ],
   "source": [
    "# count\n",
    "df.select(\n",
    "    count('nombre').alias('conteo_nombre'),\n",
    "    count('color').alias('conteo_color'),\n",
    "    count('cantidad').alias('conteo_cantidad')\n",
    ").show()"
   ]
  },
  {
   "cell_type": "code",
   "execution_count": 26,
   "metadata": {},
   "outputs": [
    {
     "name": "stdout",
     "output_type": "stream",
     "text": [
      "+--------------+\n",
      "|conteo_general|\n",
      "+--------------+\n",
      "|             4|\n",
      "+--------------+\n",
      "\n"
     ]
    }
   ],
   "source": [
    "df.select(\n",
    "    count('*').alias('conteo_general')\n",
    ").show()\n"
   ]
  },
  {
   "cell_type": "markdown",
   "metadata": {},
   "source": [
    "### countDistinct"
   ]
  },
  {
   "cell_type": "code",
   "execution_count": 28,
   "metadata": {},
   "outputs": [
    {
     "name": "stdout",
     "output_type": "stream",
     "text": [
      "+----------+---------+------------+-----------+\n",
      "|nombre_dif|color_dif|cantidad_dif|general_dif|\n",
      "+----------+---------+------------+-----------+\n",
      "|         2|        2|           4|          2|\n",
      "+----------+---------+------------+-----------+\n",
      "\n"
     ]
    }
   ],
   "source": [
    "# countDistinct\n",
    "df.select(\n",
    "    countDistinct('nombre').alias('nombre_dif'),\n",
    "    countDistinct('color').alias('color_dif'),\n",
    "    countDistinct('cantidad').alias('cantidad_dif'),\n",
    "    countDistinct('*').alias('general_dif')\n",
    ").show()\n"
   ]
  },
  {
   "cell_type": "markdown",
   "metadata": {},
   "source": [
    "### approx_count_distinct"
   ]
  },
  {
   "cell_type": "code",
   "execution_count": 24,
   "metadata": {},
   "outputs": [
    {
     "name": "stderr",
     "output_type": "stream",
     "text": [
      "[Stage 34:==================================================>       (7 + 1) / 8]\r"
     ]
    },
    {
     "name": "stdout",
     "output_type": "stream",
     "text": [
      "+-----------------------+------------------------------+\n",
      "|count(DISTINCT AIRLINE)|approx_count_distinct(AIRLINE)|\n",
      "+-----------------------+------------------------------+\n",
      "|                     14|                            13|\n",
      "+-----------------------+------------------------------+\n",
      "\n"
     ]
    },
    {
     "name": "stderr",
     "output_type": "stream",
     "text": [
      "                                                                                \r"
     ]
    }
   ],
   "source": [
    "# approx_count_distinct\n",
    "# esta funcion da una aproximacion del conteo\n",
    "# para reducir el costo del conteo\n",
    "df_vuelos.select(\n",
    "    countDistinct('AIRLINE'),\n",
    "    approx_count_distinct('AIRLINE')\n",
    ").show()"
   ]
  },
  {
   "cell_type": "markdown",
   "metadata": {},
   "source": [
    "### Min & Max"
   ]
  },
  {
   "cell_type": "code",
   "execution_count": 32,
   "metadata": {},
   "outputs": [
    {
     "name": "stdout",
     "output_type": "stream",
     "text": [
      "+------------+------------+------------------+------------------+\n",
      "|menor_timepo|mayor_tiempo|min(AIRLINE_DELAY)|max(AIRLINE_DELAY)|\n",
      "+------------+------------+------------------+------------------+\n",
      "|           7|         690|                 0|              1971|\n",
      "+------------+------------+------------------+------------------+\n",
      "\n"
     ]
    }
   ],
   "source": [
    "df_vuelos.select(\n",
    "    min('AIR_TIME').alias('menor_timepo'),\n",
    "    max('AIR_TIME').alias('mayor_tiempo'),\n",
    "    min('AIRLINE_DELAY'),\n",
    "    max('AIRLINE_DELAY')\n",
    ").show()"
   ]
  },
  {
   "cell_type": "markdown",
   "metadata": {},
   "source": [
    "### Sum"
   ]
  },
  {
   "cell_type": "code",
   "execution_count": 5,
   "metadata": {},
   "outputs": [
    {
     "name": "stderr",
     "output_type": "stream",
     "text": [
      "                                                                                \r"
     ]
    },
    {
     "name": "stdout",
     "output_type": "stream",
     "text": [
      "+----------+\n",
      "|   sum_dis|\n",
      "+----------+\n",
      "|4785357409|\n",
      "+----------+\n",
      "\n"
     ]
    }
   ],
   "source": [
    "df_vuelos.select(\n",
    "    sum('DISTANCE').alias('sum_dis')\n",
    ").show()"
   ]
  },
  {
   "cell_type": "markdown",
   "metadata": {},
   "source": [
    "### SumDistinct"
   ]
  },
  {
   "cell_type": "code",
   "execution_count": 8,
   "metadata": {},
   "outputs": [
    {
     "name": "stdout",
     "output_type": "stream",
     "text": [
      "+-----------+\n",
      "|sum_dis_dif|\n",
      "+-----------+\n",
      "|    1442300|\n",
      "+-----------+\n",
      "\n"
     ]
    }
   ],
   "source": [
    "df_vuelos.select(\n",
    "    sum_distinct('DISTANCE').alias('sum_dis_dif')\n",
    ").show()"
   ]
  },
  {
   "cell_type": "markdown",
   "metadata": {},
   "source": [
    "### AVG"
   ]
  },
  {
   "cell_type": "code",
   "execution_count": 9,
   "metadata": {},
   "outputs": [
    {
     "name": "stdout",
     "output_type": "stream",
     "text": [
      "+------------------+------------------+\n",
      "|     promedio_aire|       prom_manual|\n",
      "+------------------+------------------+\n",
      "|113.51162809012519|113.51162809012519|\n",
      "+------------------+------------------+\n",
      "\n"
     ]
    }
   ],
   "source": [
    "df_vuelos.select(\n",
    "    avg('AIR_TIME').alias('promedio_aire'),\n",
    "    (sum('AIR_TIME') / count('AIR_TIME')).alias('prom_manual')\n",
    ").show()"
   ]
  },
  {
   "cell_type": "markdown",
   "metadata": {},
   "source": [
    "### GroupBy"
   ]
  },
  {
   "cell_type": "code",
   "execution_count": 20,
   "metadata": {},
   "outputs": [
    {
     "name": "stdout",
     "output_type": "stream",
     "text": [
      "+--------------+-----+\n",
      "|ORIGIN_AIRPORT|count|\n",
      "+--------------+-----+\n",
      "|         11503|    4|\n",
      "|         13502|    6|\n",
      "|         14222|    9|\n",
      "|         10165|    9|\n",
      "|         13541|   11|\n",
      "+--------------+-----+\n",
      "\n"
     ]
    },
    {
     "name": "stderr",
     "output_type": "stream",
     "text": [
      "                                                                                \r"
     ]
    }
   ],
   "source": [
    "df_vuelos.groupBy('ORIGIN_AIRPORT')\\\n",
    "    .count()\\\n",
    "    .orderBy(col('count')).limit(5).show()"
   ]
  },
  {
   "cell_type": "code",
   "execution_count": 19,
   "metadata": {},
   "outputs": [
    {
     "name": "stderr",
     "output_type": "stream",
     "text": [
      "[Stage 31:==================================================>       (7 + 1) / 8]\r"
     ]
    },
    {
     "name": "stdout",
     "output_type": "stream",
     "text": [
      "+--------------+-------------------+-----+\n",
      "|ORIGIN_AIRPORT|DESTINATION_AIRPORT|count|\n",
      "+--------------+-------------------+-----+\n",
      "|           SFO|                LAX|13744|\n",
      "|           LAX|                SFO|13457|\n",
      "|           JFK|                LAX|12016|\n",
      "|           LAX|                JFK|12015|\n",
      "|           LAS|                LAX| 9715|\n",
      "+--------------+-------------------+-----+\n",
      "\n"
     ]
    },
    {
     "name": "stderr",
     "output_type": "stream",
     "text": [
      "                                                                                \r"
     ]
    }
   ],
   "source": [
    "df_vuelos.groupBy('ORIGIN_AIRPORT', 'DESTINATION_AIRPORT')\\\n",
    "    .count()\\\n",
    "    .orderBy(desc('count'))\\\n",
    "    .limit(5).show()"
   ]
  },
  {
   "cell_type": "code",
   "execution_count": 22,
   "metadata": {},
   "outputs": [
    {
     "name": "stderr",
     "output_type": "stream",
     "text": [
      "[Stage 40:==================================================>       (7 + 1) / 8]\r"
     ]
    },
    {
     "name": "stdout",
     "output_type": "stream",
     "text": [
      "+--------------+-----------+---+---+\n",
      "|ORIGIN_AIRPORT|tiempo_aire|min|max|\n",
      "+--------------+-----------+---+---+\n",
      "|           ATL|     343506| 15|614|\n",
      "|           ORD|     276554| 13|571|\n",
      "|           DFW|     232647| 11|534|\n",
      "|           DEN|     193402| 12|493|\n",
      "|           LAX|     192003| 14|409|\n",
      "|           PHX|     145552| 19|444|\n",
      "|           SFO|     145491|  8|389|\n",
      "|           IAH|     144019| 15|524|\n",
      "|           LAS|     131937| 25|429|\n",
      "|           MSP|     111055| 14|537|\n",
      "+--------------+-----------+---+---+\n",
      "\n"
     ]
    },
    {
     "name": "stderr",
     "output_type": "stream",
     "text": [
      "                                                                                \r"
     ]
    }
   ],
   "source": [
    "df_vuelos.groupBy('ORIGIN_AIRPORT').agg(\n",
    "    count('AIR_TIME').alias('tiempo_aire'),\n",
    "    min('AIR_TIME').alias('min'),\n",
    "    max('AIR_TIME').alias('max')\n",
    ").orderBy(desc('tiempo_aire')).limit(10).show()"
   ]
  },
  {
   "cell_type": "code",
   "execution_count": 24,
   "metadata": {},
   "outputs": [
    {
     "name": "stdout",
     "output_type": "stream",
     "text": [
      "+-----+------------------+-----------------+\n",
      "|MONTH|conteo_de_retrasos|        prom_dist|\n",
      "+-----+------------------+-----------------+\n",
      "|    7|            514384|841.4772794487611|\n",
      "|    8|            503956|834.8244276603413|\n",
      "|    6|            492847|835.6302716626612|\n",
      "|    3|            492138|816.0553268611494|\n",
      "|    5|            489641|823.3230588760807|\n",
      "|   10|            482878|816.4436127652134|\n",
      "|    4|            479251|817.0060476016745|\n",
      "|   12|            469717|837.8018926194103|\n",
      "|   11|            462367|820.2482434846529|\n",
      "|    9|            462153|815.8487523282274|\n",
      "+-----+------------------+-----------------+\n",
      "\n"
     ]
    }
   ],
   "source": [
    "df_vuelos.groupBy('MONTH').agg(\n",
    "    count('ARRIVAL_DELAY').alias('conteo_de_retrasos'),\n",
    "    avg('DISTANCE').alias('prom_dist')\n",
    ").orderBy(desc('conteo_de_retrasos')).limit(10).show()"
   ]
  },
  {
   "cell_type": "markdown",
   "metadata": {},
   "source": [
    "### GroupBy con agregaciones(pivot)"
   ]
  },
  {
   "cell_type": "code",
   "execution_count": 30,
   "metadata": {},
   "outputs": [
    {
     "name": "stdout",
     "output_type": "stream",
     "text": [
      "+------+----+----+----------+\n",
      "|nombre|sexo|peso|graduacion|\n",
      "+------+----+----+----------+\n",
      "|  Jose|   M|  80|      2000|\n",
      "| Hilda|   F|  50|      2000|\n",
      "|  Juan|   M|  75|      2000|\n",
      "| Pedro|   M|  76|      2001|\n",
      "|Katia+|   F|  65|      2001|\n",
      "+------+----+----+----------+\n",
      "\n"
     ]
    }
   ],
   "source": [
    "df_estudiantes = spark.read.parquet(path+'estudiantes.parquet')\n",
    "df_estudiantes.show()"
   ]
  },
  {
   "cell_type": "code",
   "execution_count": 26,
   "metadata": {},
   "outputs": [
    {
     "name": "stdout",
     "output_type": "stream",
     "text": [
      "+----------+----+----+\n",
      "|graduacion|   F|   M|\n",
      "+----------+----+----+\n",
      "|      2001|65.0|76.0|\n",
      "|      2000|50.0|77.5|\n",
      "+----------+----+----+\n",
      "\n"
     ]
    }
   ],
   "source": [
    "df_estudiantes.groupBy('graduacion').pivot('sexo').\\\n",
    "    agg(avg('peso')).show()"
   ]
  },
  {
   "cell_type": "code",
   "execution_count": 27,
   "metadata": {},
   "outputs": [
    {
     "name": "stdout",
     "output_type": "stream",
     "text": [
      "+----------+-----------+-----------+-----------+-----------+-----------+-----------+\n",
      "|graduacion|F_avg(peso)|F_min(peso)|F_max(peso)|M_avg(peso)|M_min(peso)|M_max(peso)|\n",
      "+----------+-----------+-----------+-----------+-----------+-----------+-----------+\n",
      "|      2001|       65.0|         65|         65|       76.0|         76|         76|\n",
      "|      2000|       50.0|         50|         50|       77.5|         75|         80|\n",
      "+----------+-----------+-----------+-----------+-----------+-----------+-----------+\n",
      "\n"
     ]
    }
   ],
   "source": [
    "# pivot\n",
    "df_estudiantes.groupBy('graduacion').pivot('sexo').\\\n",
    "    agg(avg('peso'), min('peso'), max('peso')).show()"
   ]
  },
  {
   "cell_type": "code",
   "execution_count": 28,
   "metadata": {},
   "outputs": [
    {
     "name": "stdout",
     "output_type": "stream",
     "text": [
      "+----------+-----------+-----------+-----------+\n",
      "|graduacion|M_avg(peso)|M_min(peso)|M_max(peso)|\n",
      "+----------+-----------+-----------+-----------+\n",
      "|      2001|       76.0|         76|         76|\n",
      "|      2000|       77.5|         75|         80|\n",
      "+----------+-----------+-----------+-----------+\n",
      "\n"
     ]
    }
   ],
   "source": [
    "df_estudiantes.groupBy('graduacion').pivot('sexo', ['M']).\\\n",
    "    agg(avg('peso'), min('peso'), max('peso')).show()"
   ]
  },
  {
   "cell_type": "code",
   "execution_count": 29,
   "metadata": {},
   "outputs": [
    {
     "name": "stdout",
     "output_type": "stream",
     "text": [
      "+----------+-----------+-----------+-----------+\n",
      "|graduacion|F_avg(peso)|F_min(peso)|F_max(peso)|\n",
      "+----------+-----------+-----------+-----------+\n",
      "|      2001|       65.0|         65|         65|\n",
      "|      2000|       50.0|         50|         50|\n",
      "+----------+-----------+-----------+-----------+\n",
      "\n"
     ]
    }
   ],
   "source": [
    "df_estudiantes.groupBy('graduacion').pivot('sexo', ['F']).\\\n",
    "    agg(avg('peso'), min('peso'), max('peso')).show()"
   ]
  },
  {
   "cell_type": "markdown",
   "metadata": {},
   "source": [
    "### Join"
   ]
  },
  {
   "cell_type": "code",
   "execution_count": 31,
   "metadata": {},
   "outputs": [],
   "source": [
    "empleados = spark.read.parquet(path+'empleados')\n",
    "departamentos = spark.read.parquet(path+'departamentos')"
   ]
  },
  {
   "cell_type": "code",
   "execution_count": 32,
   "metadata": {},
   "outputs": [
    {
     "name": "stdout",
     "output_type": "stream",
     "text": [
      "+------+--------+\n",
      "|nombre|num_dpto|\n",
      "+------+--------+\n",
      "|  Luis|      33|\n",
      "| Katia|      33|\n",
      "|  Raul|      34|\n",
      "| Pedro|       0|\n",
      "| Laura|      34|\n",
      "|Sandro|      31|\n",
      "+------+--------+\n",
      "\n"
     ]
    }
   ],
   "source": [
    "empleados.show()"
   ]
  },
  {
   "cell_type": "code",
   "execution_count": 33,
   "metadata": {},
   "outputs": [
    {
     "name": "stdout",
     "output_type": "stream",
     "text": [
      "+---+-----------+\n",
      "| id|nombre_dpto|\n",
      "+---+-----------+\n",
      "| 31|     letras|\n",
      "| 33|    derecho|\n",
      "| 34| matemática|\n",
      "| 35|informática|\n",
      "+---+-----------+\n",
      "\n"
     ]
    }
   ],
   "source": [
    "departamentos.show()"
   ]
  },
  {
   "cell_type": "code",
   "execution_count": 34,
   "metadata": {},
   "outputs": [
    {
     "name": "stdout",
     "output_type": "stream",
     "text": [
      "+------+--------+---+-----------+\n",
      "|nombre|num_dpto| id|nombre_dpto|\n",
      "+------+--------+---+-----------+\n",
      "|  Luis|      33| 33|    derecho|\n",
      "| Katia|      33| 33|    derecho|\n",
      "|  Raul|      34| 34| matemática|\n",
      "| Laura|      34| 34| matemática|\n",
      "|Sandro|      31| 31|     letras|\n",
      "+------+--------+---+-----------+\n",
      "\n"
     ]
    }
   ],
   "source": [
    "# Inner join\n",
    "join_df = empleados.join(departamentos, col('num_dpto') == col('id'), 'inner')\n",
    "join_df.show()"
   ]
  },
  {
   "cell_type": "code",
   "execution_count": 35,
   "metadata": {},
   "outputs": [
    {
     "name": "stdout",
     "output_type": "stream",
     "text": [
      "+------+--------+----+-----------+\n",
      "|nombre|num_dpto|  id|nombre_dpto|\n",
      "+------+--------+----+-----------+\n",
      "|  Luis|      33|  33|    derecho|\n",
      "| Katia|      33|  33|    derecho|\n",
      "|  Raul|      34|  34| matemática|\n",
      "| Pedro|       0|NULL|       NULL|\n",
      "| Laura|      34|  34| matemática|\n",
      "|Sandro|      31|  31|     letras|\n",
      "+------+--------+----+-----------+\n",
      "\n"
     ]
    }
   ],
   "source": [
    "# Left Outer Join\n",
    "empleados.join(departamentos,\n",
    "               col('num_dpto') == col('id'), 'leftouter').show()"
   ]
  },
  {
   "cell_type": "code",
   "execution_count": 36,
   "metadata": {},
   "outputs": [
    {
     "name": "stdout",
     "output_type": "stream",
     "text": [
      "+------+--------+---+-----------+\n",
      "|nombre|num_dpto| id|nombre_dpto|\n",
      "+------+--------+---+-----------+\n",
      "|Sandro|      31| 31|     letras|\n",
      "| Katia|      33| 33|    derecho|\n",
      "|  Luis|      33| 33|    derecho|\n",
      "| Laura|      34| 34| matemática|\n",
      "|  Raul|      34| 34| matemática|\n",
      "|  NULL|    NULL| 35|informática|\n",
      "+------+--------+---+-----------+\n",
      "\n"
     ]
    }
   ],
   "source": [
    "# Right Outer Join\n",
    "empleados.join(departamentos,\n",
    "               col('num_dpto') == col('id'), 'rightouter').show()"
   ]
  },
  {
   "cell_type": "code",
   "execution_count": 37,
   "metadata": {},
   "outputs": [
    {
     "name": "stdout",
     "output_type": "stream",
     "text": [
      "+------+--------+----+-----------+\n",
      "|nombre|num_dpto|  id|nombre_dpto|\n",
      "+------+--------+----+-----------+\n",
      "| Pedro|       0|NULL|       NULL|\n",
      "|Sandro|      31|  31|     letras|\n",
      "|  Luis|      33|  33|    derecho|\n",
      "| Katia|      33|  33|    derecho|\n",
      "|  Raul|      34|  34| matemática|\n",
      "| Laura|      34|  34| matemática|\n",
      "|  NULL|    NULL|  35|informática|\n",
      "+------+--------+----+-----------+\n",
      "\n"
     ]
    }
   ],
   "source": [
    "# Full Outer Join\n",
    "empleados.join(departamentos, col('num_dpto') == col('id'), 'outer').show()"
   ]
  },
  {
   "cell_type": "code",
   "execution_count": 40,
   "metadata": {},
   "outputs": [
    {
     "name": "stdout",
     "output_type": "stream",
     "text": [
      "+------+--------+\n",
      "|nombre|num_dpto|\n",
      "+------+--------+\n",
      "| Pedro|       0|\n",
      "+------+--------+\n",
      "\n"
     ]
    }
   ],
   "source": [
    "# Left Anti Join\n",
    "empleados.join(departamentos, col('num_dpto') == col('id'), 'left_anti').show()"
   ]
  },
  {
   "cell_type": "code",
   "execution_count": 41,
   "metadata": {},
   "outputs": [
    {
     "name": "stdout",
     "output_type": "stream",
     "text": [
      "+---+-----------+\n",
      "| id|nombre_dpto|\n",
      "+---+-----------+\n",
      "| 35|informática|\n",
      "+---+-----------+\n",
      "\n"
     ]
    }
   ],
   "source": [
    "departamentos.join(empleados, col('num_dpto') == col('id'), 'left_anti').show()"
   ]
  },
  {
   "cell_type": "code",
   "execution_count": 42,
   "metadata": {},
   "outputs": [
    {
     "name": "stdout",
     "output_type": "stream",
     "text": [
      "+------+--------+\n",
      "|nombre|num_dpto|\n",
      "+------+--------+\n",
      "|  Luis|      33|\n",
      "| Katia|      33|\n",
      "|  Raul|      34|\n",
      "| Laura|      34|\n",
      "|Sandro|      31|\n",
      "+------+--------+\n",
      "\n"
     ]
    }
   ],
   "source": [
    "# Left Semi Join\n",
    "# opuesto left_anti\n",
    "empleados.join(departamentos, col('num_dpto') == col('id'), 'left_semi').show()"
   ]
  },
  {
   "cell_type": "code",
   "execution_count": 43,
   "metadata": {},
   "outputs": [
    {
     "name": "stdout",
     "output_type": "stream",
     "text": [
      "+------+--------+---+-----------+\n",
      "|nombre|num_dpto| id|nombre_dpto|\n",
      "+------+--------+---+-----------+\n",
      "|  Luis|      33| 31|     letras|\n",
      "|  Luis|      33| 33|    derecho|\n",
      "|  Luis|      33| 34| matemática|\n",
      "|  Luis|      33| 35|informática|\n",
      "| Katia|      33| 31|     letras|\n",
      "| Katia|      33| 33|    derecho|\n",
      "| Katia|      33| 34| matemática|\n",
      "| Katia|      33| 35|informática|\n",
      "|  Raul|      34| 31|     letras|\n",
      "|  Raul|      34| 33|    derecho|\n",
      "|  Raul|      34| 34| matemática|\n",
      "|  Raul|      34| 35|informática|\n",
      "| Pedro|       0| 31|     letras|\n",
      "| Pedro|       0| 33|    derecho|\n",
      "| Pedro|       0| 34| matemática|\n",
      "| Pedro|       0| 35|informática|\n",
      "| Laura|      34| 31|     letras|\n",
      "| Laura|      34| 33|    derecho|\n",
      "| Laura|      34| 34| matemática|\n",
      "| Laura|      34| 35|informática|\n",
      "+------+--------+---+-----------+\n",
      "only showing top 20 rows\n",
      "\n"
     ]
    }
   ],
   "source": [
    "# Cross Join\n",
    "df = empleados.crossJoin(departamentos)\n",
    "df.show()"
   ]
  },
  {
   "cell_type": "markdown",
   "metadata": {},
   "source": [
    "## Columnas con nombres duplicados"
   ]
  },
  {
   "cell_type": "code",
   "execution_count": 44,
   "metadata": {},
   "outputs": [
    {
     "name": "stdout",
     "output_type": "stream",
     "text": [
      "root\n",
      " |-- id: long (nullable = true)\n",
      " |-- nombre_dpto: string (nullable = true)\n",
      " |-- num_dpto: long (nullable = true)\n",
      "\n"
     ]
    }
   ],
   "source": [
    "depa = departamentos.withColumn('num_dpto', col('id'))\n",
    "depa.printSchema()"
   ]
  },
  {
   "cell_type": "code",
   "execution_count": 45,
   "metadata": {},
   "outputs": [
    {
     "name": "stdout",
     "output_type": "stream",
     "text": [
      "+---+-----------+--------+\n",
      "| id|nombre_dpto|num_dpto|\n",
      "+---+-----------+--------+\n",
      "| 31|     letras|      31|\n",
      "| 33|    derecho|      33|\n",
      "| 34| matemática|      34|\n",
      "| 35|informática|      35|\n",
      "+---+-----------+--------+\n",
      "\n"
     ]
    }
   ],
   "source": [
    "depa.show()"
   ]
  },
  {
   "cell_type": "code",
   "execution_count": 47,
   "metadata": {},
   "outputs": [
    {
     "name": "stdout",
     "output_type": "stream",
     "text": [
      "An exception occurred: AnalysisException [AMBIGUOUS_REFERENCE] Reference `num_dpto` is ambiguous, could be: [`num_dpto`, `num_dpto`].\n"
     ]
    },
    {
     "name": "stderr",
     "output_type": "stream",
     "text": [
      "24/01/05 17:34:00 WARN Column: Constructing trivially true equals predicate, ''num_dpto = 'num_dpto'. Perhaps you need to use aliases.\n"
     ]
    }
   ],
   "source": [
    "# Devuelve un error\n",
    "try:\n",
    "    empleados.join(depa, col('num_dpto') == col('num_dpto'))\n",
    "except Exception as error:\n",
    "    # handle the exception\n",
    "    print(\"An exception occurred:\", type(error).__name__ , error)"
   ]
  },
  {
   "cell_type": "code",
   "execution_count": 48,
   "metadata": {},
   "outputs": [],
   "source": [
    "# Forma correcta\n",
    "df_con_duplicados = empleados.join(\n",
    "    depa, empleados['num_dpto'] == depa['num_dpto'])\n"
   ]
  },
  {
   "cell_type": "code",
   "execution_count": 49,
   "metadata": {},
   "outputs": [
    {
     "name": "stdout",
     "output_type": "stream",
     "text": [
      "root\n",
      " |-- nombre: string (nullable = true)\n",
      " |-- num_dpto: long (nullable = true)\n",
      " |-- id: long (nullable = true)\n",
      " |-- nombre_dpto: string (nullable = true)\n",
      " |-- num_dpto: long (nullable = true)\n",
      "\n"
     ]
    }
   ],
   "source": [
    "df_con_duplicados.printSchema()"
   ]
  },
  {
   "cell_type": "code",
   "execution_count": null,
   "metadata": {},
   "outputs": [],
   "source": [
    "spark.sparkContext.stop()"
   ]
  }
 ],
 "metadata": {
  "kernelspec": {
   "display_name": "venv",
   "language": "python",
   "name": "python3"
  },
  "language_info": {
   "codemirror_mode": {
    "name": "ipython",
    "version": 3
   },
   "file_extension": ".py",
   "mimetype": "text/x-python",
   "name": "python",
   "nbconvert_exporter": "python",
   "pygments_lexer": "ipython3",
   "version": "3.10.4"
  }
 },
 "nbformat": 4,
 "nbformat_minor": 2
}

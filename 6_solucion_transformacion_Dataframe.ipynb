{
 "cells": [
  {
   "cell_type": "markdown",
   "metadata": {},
   "source": [
    "# Ejercicios "
   ]
  },
  {
   "cell_type": "markdown",
   "metadata": {},
   "source": [
    "Los datos adjuntos a esta lección forman parte de la base de datos [NeurIPS 2020] Data Science for COVID-19 (DS4C) disponible en Kaggle.\\\n",
    "Estos datos hacen referencia a los casos de contagio de covid-19 en Corea del Sur. \\\n",
    "El archivo csv Case contiene los casos reportados y el archivo csv PatientInfo contiene la información de los pacientes."
   ]
  },
  {
   "cell_type": "code",
   "execution_count": 21,
   "metadata": {},
   "outputs": [],
   "source": [
    "from pyspark.sql import SparkSession\n",
    "from pyspark.sql.functions import col\n",
    "from pyspark.sql.functions import desc\n",
    "from pyspark.sql.functions import count\n",
    "from pyspark.storagelevel import StorageLevel\n",
    "\n",
    "# directorio donde estan los datos\n",
    "path = 'files/data/'"
   ]
  },
  {
   "cell_type": "code",
   "execution_count": 3,
   "metadata": {},
   "outputs": [],
   "source": [
    "spark = SparkSession.builder.getOrCreate()\n",
    "casos = spark.read.option('header','true').option('inferSchema','true').csv(path+'Case.csv')\n",
    "pacientes_info = spark.read.option('header','true').option('inferSchema','true').csv(path+'PatientInfo.csv')"
   ]
  },
  {
   "cell_type": "code",
   "execution_count": 7,
   "metadata": {},
   "outputs": [
    {
     "name": "stdout",
     "output_type": "stream",
     "text": [
      "root\n",
      " |-- case_id: integer (nullable = true)\n",
      " |-- province: string (nullable = true)\n",
      " |-- city: string (nullable = true)\n",
      " |-- group: boolean (nullable = true)\n",
      " |-- infection_case: string (nullable = true)\n",
      " |-- confirmed: integer (nullable = true)\n",
      " |-- latitude: string (nullable = true)\n",
      " |-- longitude: string (nullable = true)\n",
      "\n"
     ]
    }
   ],
   "source": [
    "casos.printSchema()"
   ]
  },
  {
   "cell_type": "code",
   "execution_count": 6,
   "metadata": {},
   "outputs": [],
   "source": [
    "casos = casos.withColumnRenamed(' case_id','case_id')"
   ]
  },
  {
   "cell_type": "markdown",
   "metadata": {},
   "source": [
    "## 1. A partir del archivo csv Case, determine las tres ciudades con más casos confirmados de la enfermedad. La salida debe contener tres columnas: provincia, ciudad y casos confirmados. El resultado debe contener exactamente los tres nombre de ciudades con más casos confirmados ya que no se admiten otros valores."
   ]
  },
  {
   "cell_type": "code",
   "execution_count": 8,
   "metadata": {},
   "outputs": [
    {
     "name": "stdout",
     "output_type": "stream",
     "text": [
      "+-------+--------+------------+-----+--------------------+---------+---------+----------+\n",
      "|case_id|province|        city|group|      infection_case|confirmed| latitude| longitude|\n",
      "+-------+--------+------------+-----+--------------------+---------+---------+----------+\n",
      "|1000001|   Seoul|  Yongsan-gu| true|       Itaewon Clubs|      139|37.538621|126.992652|\n",
      "|1000002|   Seoul|   Gwanak-gu| true|             Richway|      119| 37.48208|126.901384|\n",
      "|1000003|   Seoul|     Guro-gu| true| Guro-gu Call Center|       95|37.508163|126.884387|\n",
      "|1000004|   Seoul|Yangcheon-gu| true|Yangcheon Table T...|       43|37.546061|126.874209|\n",
      "|1000005|   Seoul|   Dobong-gu| true|     Day Care Center|       43|37.679422|127.044374|\n",
      "+-------+--------+------------+-----+--------------------+---------+---------+----------+\n",
      "only showing top 5 rows\n",
      "\n"
     ]
    }
   ],
   "source": [
    "casos.show(5)"
   ]
  },
  {
   "cell_type": "code",
   "execution_count": 16,
   "metadata": {},
   "outputs": [
    {
     "name": "stdout",
     "output_type": "stream",
     "text": [
      "+--------+------------+---------+\n",
      "|province|        city|confirmed|\n",
      "+--------+------------+---------+\n",
      "|   Daegu|      Nam-gu|     4511|\n",
      "|   Daegu|Dalseong-gun|      196|\n",
      "|   Seoul|  Yongsan-gu|      139|\n",
      "+--------+------------+---------+\n",
      "\n"
     ]
    }
   ],
   "source": [
    "# Top 3\n",
    "casos.filter((col('city') != '-') & (col('city') != 'from other city'))\\\n",
    "    .orderBy(desc('confirmed'))\\\n",
    "    .select('province','city','confirmed')\\\n",
    "    .limit(3)\\\n",
    "    .show()"
   ]
  },
  {
   "cell_type": "markdown",
   "metadata": {},
   "source": [
    "## 2. Cree un dataframe a partir del archivo csv PatientInfo. Asegúrese de que su dataframe no contenga pacientes duplicados.\n",
    "### a. ¿Cuántos pacientes tienen informado por quién se contagiaron(columna infected_by)? Obtenga solo los pacientes que tengan informado por quién se contagiaron."
   ]
  },
  {
   "cell_type": "code",
   "execution_count": 17,
   "metadata": {},
   "outputs": [
    {
     "name": "stdout",
     "output_type": "stream",
     "text": [
      "root\n",
      " |-- patient_id: long (nullable = true)\n",
      " |-- sex: string (nullable = true)\n",
      " |-- age: string (nullable = true)\n",
      " |-- country: string (nullable = true)\n",
      " |-- province: string (nullable = true)\n",
      " |-- city: string (nullable = true)\n",
      " |-- infection_case: string (nullable = true)\n",
      " |-- infected_by: string (nullable = true)\n",
      " |-- contact_number: string (nullable = true)\n",
      " |-- symptom_onset_date: string (nullable = true)\n",
      " |-- confirmed_date: date (nullable = true)\n",
      " |-- released_date: date (nullable = true)\n",
      " |-- deceased_date: date (nullable = true)\n",
      " |-- state: string (nullable = true)\n",
      "\n"
     ]
    }
   ],
   "source": [
    "pacientes_info.printSchema()"
   ]
  },
  {
   "cell_type": "code",
   "execution_count": 18,
   "metadata": {},
   "outputs": [
    {
     "name": "stdout",
     "output_type": "stream",
     "text": [
      "+----------+------+---+-------+--------+-----------+--------------------+-----------+--------------+------------------+--------------+-------------+-------------+--------+\n",
      "|patient_id|   sex|age|country|province|       city|      infection_case|infected_by|contact_number|symptom_onset_date|confirmed_date|released_date|deceased_date|   state|\n",
      "+----------+------+---+-------+--------+-----------+--------------------+-----------+--------------+------------------+--------------+-------------+-------------+--------+\n",
      "|1000000001|  male|50s|  Korea|   Seoul| Gangseo-gu|     overseas inflow|       NULL|            75|        2020-01-22|    2020-01-23|   2020-02-05|         NULL|released|\n",
      "|1000000002|  male|30s|  Korea|   Seoul|Jungnang-gu|     overseas inflow|       NULL|            31|              NULL|    2020-01-30|   2020-03-02|         NULL|released|\n",
      "|1000000003|  male|50s|  Korea|   Seoul|  Jongno-gu|contact with patient| 2002000001|            17|              NULL|    2020-01-30|   2020-02-19|         NULL|released|\n",
      "|1000000004|  male|20s|  Korea|   Seoul|    Mapo-gu|     overseas inflow|       NULL|             9|        2020-01-26|    2020-01-30|   2020-02-15|         NULL|released|\n",
      "|1000000005|female|20s|  Korea|   Seoul|Seongbuk-gu|contact with patient| 1000000002|             2|              NULL|    2020-01-31|   2020-02-24|         NULL|released|\n",
      "|1000000006|female|50s|  Korea|   Seoul|  Jongno-gu|contact with patient| 1000000003|            43|              NULL|    2020-01-31|   2020-02-19|         NULL|released|\n",
      "|1000000007|  male|20s|  Korea|   Seoul|  Jongno-gu|contact with patient| 1000000003|             0|              NULL|    2020-01-31|   2020-02-10|         NULL|released|\n",
      "|1000000008|  male|20s|  Korea|   Seoul|        etc|     overseas inflow|       NULL|             0|              NULL|    2020-02-02|   2020-02-24|         NULL|released|\n",
      "|1000000009|  male|30s|  Korea|   Seoul|  Songpa-gu|     overseas inflow|       NULL|            68|              NULL|    2020-02-05|   2020-02-21|         NULL|released|\n",
      "|1000000010|female|60s|  Korea|   Seoul|Seongbuk-gu|contact with patient| 1000000003|             6|              NULL|    2020-02-05|   2020-02-29|         NULL|released|\n",
      "+----------+------+---+-------+--------+-----------+--------------------+-----------+--------------+------------------+--------------+-------------+-------------+--------+\n",
      "only showing top 10 rows\n",
      "\n"
     ]
    }
   ],
   "source": [
    "pacientes_info.show(10)"
   ]
  },
  {
   "cell_type": "code",
   "execution_count": 19,
   "metadata": {},
   "outputs": [],
   "source": [
    "# asegurar que no hay pacientes duplicados\n",
    "pacientes_info = pacientes_info.dropDuplicates(['patient_id'])"
   ]
  },
  {
   "cell_type": "code",
   "execution_count": 22,
   "metadata": {},
   "outputs": [
    {
     "name": "stdout",
     "output_type": "stream",
     "text": [
      "+------+\n",
      "|conteo|\n",
      "+------+\n",
      "|  1346|\n",
      "+------+\n",
      "\n"
     ]
    }
   ],
   "source": [
    "# Pacientes con informacion por quien fue contagiado\n",
    "pacientes_info.select(count('infected_by').alias('conteo')).show()"
   ]
  },
  {
   "cell_type": "code",
   "execution_count": 23,
   "metadata": {},
   "outputs": [
    {
     "name": "stdout",
     "output_type": "stream",
     "text": [
      "+------+\n",
      "|conteo|\n",
      "+------+\n",
      "|  1346|\n",
      "+------+\n",
      "\n"
     ]
    }
   ],
   "source": [
    "# pacientes con la informacion de  por quien fue contagiado\n",
    "pacientes_info_contagios = pacientes_info.na.drop(subset=['infected_by'])\n",
    "pacientes_info_contagios.select(count('infected_by').alias('conteo')).show()"
   ]
  },
  {
   "cell_type": "markdown",
   "metadata": {},
   "source": [
    "### b. A partir de la salida del inciso anterior obtenga solo los pacientes femeninos. La salida no debe contener las columnas released_date y deceased_date."
   ]
  },
  {
   "cell_type": "code",
   "execution_count": 27,
   "metadata": {},
   "outputs": [
    {
     "name": "stdout",
     "output_type": "stream",
     "text": [
      "+----------+------+---+-------+--------+-------------+--------------------+-----------+--------------+------------------+--------------+--------+\n",
      "|patient_id|   sex|age|country|province|         city|      infection_case|infected_by|contact_number|symptom_onset_date|confirmed_date|   state|\n",
      "+----------+------+---+-------+--------+-------------+--------------------+-----------+--------------+------------------+--------------+--------+\n",
      "|1000000005|female|20s|  Korea|   Seoul|  Seongbuk-gu|contact with patient| 1000000002|             2|              NULL|    2020-01-31|released|\n",
      "|1000000006|female|50s|  Korea|   Seoul|    Jongno-gu|contact with patient| 1000000003|            43|              NULL|    2020-01-31|released|\n",
      "|1000000010|female|60s|  Korea|   Seoul|  Seongbuk-gu|contact with patient| 1000000003|             6|              NULL|    2020-02-05|released|\n",
      "|1000000014|female|60s|  Korea|   Seoul|    Jongno-gu|contact with patient| 1000000013|            27|        2020-02-06|    2020-02-16|released|\n",
      "|1000000019|female|70s|  Korea|   Seoul|    Jongno-gu|contact with patient| 1000000021|          NULL|              NULL|    2020-02-20|released|\n",
      "|1000000020|female|70s|  Korea|   Seoul| Seongdong-gu|    Seongdong-gu APT| 1000000015|          NULL|              NULL|    2020-02-20|released|\n",
      "|1000000029|female|20s|  Korea|   Seoul|    Jongno-gu|Eunpyeong St. Mar...| 1000000028|          NULL|        2020-02-11|    2020-02-26|released|\n",
      "|1000000033|female|50s|  Korea|   Seoul|    Songpa-gu|contact with patient| 1000000031|          NULL|              NULL|    2020-02-24|released|\n",
      "|1000000037|female|40s|  Korea|   Seoul|    Songpa-gu|contact with patient| 1000000031|          NULL|              NULL|    2020-02-25|released|\n",
      "|1000000040|female|60s|  Korea|   Seoul|    Gwanak-gu|     overseas inflow| 1500000002|          NULL|              NULL|    2020-02-25|released|\n",
      "|1000000046|female|20s|  Korea|   Seoul|          etc|contact with patient| 1000000041|          NULL|              NULL|    2020-02-26|released|\n",
      "|1000000053|female|40s|  Korea|   Seoul| Eunpyeong-gu|Eunpyeong St. Mar...| 1000000054|          NULL|        2020-02-25|    2020-02-27|released|\n",
      "|1000000059|female|60s|  Korea|   Seoul| Eunpyeong-gu|Eunpyeong St. Mar...| 1000000060|          NULL|              NULL|    2020-02-28|released|\n",
      "|1000000064|female|30s|  Korea|   Seoul|   Gangnam-gu|contact with patient| 1000000047|          NULL|        2020-02-26|    2020-02-29|released|\n",
      "|1000000067|female|20s|  Korea|   Seoul|    Songpa-gu|contact with patient| 1000000033|          NULL|              NULL|    2020-02-29|released|\n",
      "|1000000113|female|60s|  Korea|   Seoul|   Gangbuk-gu|contact with patient| 1000000111|          NULL|        2020-02-24|    2020-03-06|released|\n",
      "|1000000114|female|20s|  Korea|   Seoul| Yangcheon-gu|contact with patient| 1000000115|          NULL|              NULL|    2020-03-07|released|\n",
      "|1000000121|female| 0s|  Korea|   Seoul|Dongdaemun-gu|contact with patient| 1000000120|          NULL|        2020-03-04|    2020-03-08|released|\n",
      "|1000000126|female|30s|  Korea|   Seoul|Dongdaemun-gu|contact with patient| 1000000120|          NULL|        2020-03-04|    2020-03-08|released|\n",
      "|1000000129|female|60s|  Korea|   Seoul|Dongdaemun-gu|contact with patient| 1000000120|          NULL|              NULL|    2020-03-08|released|\n",
      "+----------+------+---+-------+--------+-------------+--------------------+-----------+--------------+------------------+--------------+--------+\n",
      "only showing top 20 rows\n",
      "\n"
     ]
    }
   ],
   "source": [
    "final_df = pacientes_info_contagios.filter(col('sex') == 'female').drop('released_date','deceased_date')\n",
    "final_df.show()"
   ]
  },
  {
   "cell_type": "markdown",
   "metadata": {},
   "source": [
    "### c. Establezca el número de particiones del dataframe resultante del inciso anterior en dos. Escriba el dataframe resultante en un archivo parquet. La salida debe estar particionada por la provincia y el modo de escritura debe ser overwrite."
   ]
  },
  {
   "cell_type": "code",
   "execution_count": null,
   "metadata": {},
   "outputs": [],
   "source": [
    "#final_df.coalesce(2).write.partitionBy('province').mode('overwrite').parquet('./dat/salida')"
   ]
  }
 ],
 "metadata": {
  "kernelspec": {
   "display_name": "venv",
   "language": "python",
   "name": "python3"
  },
  "language_info": {
   "codemirror_mode": {
    "name": "ipython",
    "version": 3
   },
   "file_extension": ".py",
   "mimetype": "text/x-python",
   "name": "python",
   "nbconvert_exporter": "python",
   "pygments_lexer": "ipython3",
   "version": "3.10.4"
  }
 },
 "nbformat": 4,
 "nbformat_minor": 2
}
